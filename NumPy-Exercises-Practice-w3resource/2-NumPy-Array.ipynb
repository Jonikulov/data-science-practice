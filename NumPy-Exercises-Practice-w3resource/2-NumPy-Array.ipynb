{
 "cells": [
  {
   "cell_type": "markdown",
   "id": "a9342aca",
   "metadata": {},
   "source": [
    "# NumPy Array Object: 205 exercises\n",
    "\n",
    "**LINK -> https://w3resource.com/python-exercises/numpy/index-array.php**\n",
    "\n",
    "---"
   ]
  },
  {
   "cell_type": "code",
   "execution_count": 1,
   "id": "50f2ff25",
   "metadata": {},
   "outputs": [],
   "source": [
    "import numpy as np"
   ]
  },
  {
   "cell_type": "markdown",
   "id": "2d08f820",
   "metadata": {},
   "source": [
    "### 1\\. Write a NumPy program to print the NumPy version in your system."
   ]
  },
  {
   "cell_type": "code",
   "execution_count": 2,
   "id": "8ed7cde6",
   "metadata": {},
   "outputs": [
    {
     "data": {
      "text/plain": [
       "'1.23.1'"
      ]
     },
     "execution_count": 2,
     "metadata": {},
     "output_type": "execute_result"
    }
   ],
   "source": [
    "np.__version__"
   ]
  },
  {
   "cell_type": "markdown",
   "id": "282e8d0f",
   "metadata": {},
   "source": [
    "### 2\\. Write a NumPy program to convert a list of numeric value into a one-dimensional NumPy array."
   ]
  },
  {
   "cell_type": "code",
   "execution_count": 5,
   "id": "4d627e55",
   "metadata": {},
   "outputs": [
    {
     "name": "stdout",
     "output_type": "stream",
     "text": [
      "Python list: [1, 2, 3, 4, 5]\n",
      "<class 'list'>\n",
      "\n",
      "NumPy array: [1 2 3 4 5]\n",
      "<class 'numpy.ndarray'>\n"
     ]
    }
   ],
   "source": [
    "list1 = [1, 2, 3, 4, 5]\n",
    "print(\"Python list:\", list1)\n",
    "print(type(list1))\n",
    "\n",
    "arr1 = np.array(list1)\n",
    "print(\"\\nNumPy array:\", arr1)\n",
    "print(type(arr1))"
   ]
  },
  {
   "cell_type": "markdown",
   "id": "d543a7e4",
   "metadata": {},
   "source": [
    "### 3\\.Write a NumPy program to create a 3x3 matrix with values ranging from 2 to 10."
   ]
  },
  {
   "cell_type": "code",
   "execution_count": 6,
   "id": "a092eff7",
   "metadata": {},
   "outputs": [
    {
     "data": {
      "text/plain": [
       "array([[ 2,  3,  4],\n",
       "       [ 5,  6,  7],\n",
       "       [ 8,  9, 10]])"
      ]
     },
     "execution_count": 6,
     "metadata": {},
     "output_type": "execute_result"
    }
   ],
   "source": [
    "np.arange(2, 11).reshape(3, 3)"
   ]
  },
  {
   "cell_type": "markdown",
   "id": "156dfbf1",
   "metadata": {},
   "source": [
    "### 4\\. Write a NumPy program to create a null vector of size 10 and update sixth value to 11."
   ]
  },
  {
   "cell_type": "code",
   "execution_count": 9,
   "id": "07110b97",
   "metadata": {},
   "outputs": [
    {
     "name": "stdout",
     "output_type": "stream",
     "text": [
      "Null vector: [0. 0. 0. 0. 0. 0. 0. 0. 0. 0.]\n",
      "After updating the vector: [ 0.  0.  0.  0.  0. 11.  0.  0.  0.  0.]\n"
     ]
    }
   ],
   "source": [
    "arr = np.zeros((10))\n",
    "print(\"Null vector:\", arr)\n",
    "\n",
    "arr[5] = 11\n",
    "print(\"After updating the vector:\", arr)"
   ]
  },
  {
   "cell_type": "markdown",
   "id": "eda2a2dc",
   "metadata": {},
   "source": [
    "### 5\\. Write a NumPy program to create an array with values ranging from 12 to 38."
   ]
  },
  {
   "cell_type": "code",
   "execution_count": 12,
   "id": "db3a5366",
   "metadata": {},
   "outputs": [
    {
     "data": {
      "text/plain": [
       "array([12, 13, 14, 15, 16, 17, 18, 19, 20, 21, 22, 23, 24, 25, 26, 27, 28,\n",
       "       29, 30, 31, 32, 33, 34, 35, 36, 37])"
      ]
     },
     "execution_count": 12,
     "metadata": {},
     "output_type": "execute_result"
    }
   ],
   "source": [
    "np.arange(12, 38)"
   ]
  },
  {
   "cell_type": "markdown",
   "id": "5903c3a1",
   "metadata": {},
   "source": [
    "### 6\\. Write a NumPy program to reverse an array (first element becomes last)."
   ]
  },
  {
   "cell_type": "code",
   "execution_count": 57,
   "id": "f2217c86",
   "metadata": {},
   "outputs": [
    {
     "name": "stdout",
     "output_type": "stream",
     "text": [
      "Original array:\n",
      " [12 13 14 15 16 17 18 19 20 21 22 23 24 25 26 27 28 29 30 31 32 33 34 35\n",
      " 36 37]\n",
      "Reverse array:\n",
      " [37, 36, 35, 34, 33, 32, 31, 30, 29, 28, 27, 26, 25, 24, 23, 22, 21, 20, 19, 18, 17, 16, 15, 14, 13, 12]\n"
     ]
    }
   ],
   "source": [
    "arr = np.arange(12, 38)\n",
    "print(\"Original array:\\n\", arr)\n",
    "print(\"Reverse array:\\n\", sorted(arr, reverse=True))"
   ]
  },
  {
   "cell_type": "code",
   "execution_count": 59,
   "id": "7d2d9766",
   "metadata": {},
   "outputs": [
    {
     "data": {
      "text/plain": [
       "array([37, 36, 35, 34, 33, 32, 31, 30, 29, 28, 27, 26, 25, 24, 23, 22, 21,\n",
       "       20, 19, 18, 17, 16, 15, 14, 13, 12])"
      ]
     },
     "execution_count": 59,
     "metadata": {},
     "output_type": "execute_result"
    }
   ],
   "source": [
    "# Solution\n",
    "arr[::-1]"
   ]
  },
  {
   "cell_type": "markdown",
   "id": "bb16656b",
   "metadata": {},
   "source": [
    "### 7\\. Write a NumPy program to convert an array to a float type."
   ]
  },
  {
   "cell_type": "code",
   "execution_count": 96,
   "id": "e32b5696",
   "metadata": {},
   "outputs": [
    {
     "name": "stdout",
     "output_type": "stream",
     "text": [
      "Array: [10 15 25 40 60]\n",
      "Data type: int64\n",
      "\n",
      "Float array: [10. 15. 25. 40. 60.]\n",
      "Data type: float64\n"
     ]
    }
   ],
   "source": [
    "arr = np.array([10, 15, 25, 40, 60])\n",
    "print('Array:', arr)\n",
    "print('Data type:', arr.dtype)\n",
    "\n",
    "arr = arr.astype(np.float64)\n",
    "# arr = np.asarray(arr, dtype=np.float64)\n",
    "print('\\nFloat array:', arr)\n",
    "print('Data type:', arr.dtype)"
   ]
  },
  {
   "cell_type": "code",
   "execution_count": 97,
   "id": "3466829a",
   "metadata": {},
   "outputs": [
    {
     "name": "stdout",
     "output_type": "stream",
     "text": [
      "Original array\n",
      "[1, 2, 3, 4]\n",
      "Array converted to a float type:\n",
      "[1. 2. 3. 4.]\n"
     ]
    }
   ],
   "source": [
    "# Solution\n",
    "a = [1, 2, 3, 4]\n",
    "print(\"Original array\")\n",
    "print(a)\n",
    "x = np.asfarray(a)\n",
    "print(\"Array converted to a float type:\")\n",
    "print(x)"
   ]
  },
  {
   "cell_type": "markdown",
   "id": "86bb077b",
   "metadata": {},
   "source": [
    "### 8\\. Write a NumPy program to create a 2d array with 1 on the border and 0 inside."
   ]
  },
  {
   "cell_type": "code",
   "execution_count": 111,
   "id": "4edc331c",
   "metadata": {},
   "outputs": [
    {
     "data": {
      "text/plain": [
       "array([[1., 1., 1., 1., 1., 1.],\n",
       "       [1., 0., 0., 0., 0., 1.],\n",
       "       [1., 0., 0., 0., 0., 1.],\n",
       "       [1., 0., 0., 0., 0., 1.],\n",
       "       [1., 0., 0., 0., 0., 1.],\n",
       "       [1., 1., 1., 1., 1., 1.]])"
      ]
     },
     "execution_count": 111,
     "metadata": {},
     "output_type": "execute_result"
    }
   ],
   "source": [
    "arr = np.ones((6, 6))\n",
    "arr[1:-1, 1:-1] = 0\n",
    "arr"
   ]
  },
  {
   "cell_type": "markdown",
   "id": "d4be836c",
   "metadata": {},
   "source": [
    "### 9\\. Write a NumPy program to add a border (filled with 0's) around an existing array."
   ]
  },
  {
   "cell_type": "code",
   "execution_count": 289,
   "id": "c2db14a7",
   "metadata": {
    "scrolled": true
   },
   "outputs": [
    {
     "name": "stdout",
     "output_type": "stream",
     "text": [
      "Original array:\n",
      " [[1. 1. 1.]\n",
      " [1. 1. 1.]\n",
      " [1. 1. 1.]]\n"
     ]
    },
    {
     "data": {
      "text/plain": [
       "array([[0., 0., 0., 0., 0.],\n",
       "       [0., 1., 1., 1., 0.],\n",
       "       [0., 1., 1., 1., 0.],\n",
       "       [0., 1., 1., 1., 0.],\n",
       "       [0., 0., 0., 0., 0.]])"
      ]
     },
     "execution_count": 289,
     "metadata": {},
     "output_type": "execute_result"
    }
   ],
   "source": [
    "arr = np.ones((3, 3))\n",
    "print(\"Original array:\\n\", arr)\n",
    "\n",
    "arr = np.insert(arr, 0, 0, axis=0)\n",
    "arr = np.insert(arr, 0, 0, axis=1)\n",
    "arr = np.insert(arr, arr.shape[0], 0, axis=0)\n",
    "arr = np.insert(arr, arr.shape[1], 0, axis=1)\n",
    "arr"
   ]
  },
  {
   "cell_type": "code",
   "execution_count": 290,
   "id": "111e6f8f",
   "metadata": {},
   "outputs": [
    {
     "name": "stdout",
     "output_type": "stream",
     "text": [
      "Original array:\n",
      " [[1. 1. 1.]\n",
      " [1. 1. 1.]\n",
      " [1. 1. 1.]]\n",
      "0 on the border and 1 inside in the array:\n",
      " [[0. 0. 0. 0. 0.]\n",
      " [0. 1. 1. 1. 0.]\n",
      " [0. 1. 1. 1. 0.]\n",
      " [0. 1. 1. 1. 0.]\n",
      " [0. 0. 0. 0. 0.]]\n"
     ]
    }
   ],
   "source": [
    "# Solution\n",
    "x = np.ones((3, 3))\n",
    "print(\"Original array:\\n\", x)\n",
    "\n",
    "x = np.pad(x, pad_width=1, constant_values=0)\n",
    "print(\"0 on the border and 1 inside in the array:\\n\", x)"
   ]
  },
  {
   "cell_type": "markdown",
   "id": "5ce835ce",
   "metadata": {},
   "source": [
    "### 10\\. Write a NumPy program to create a 8x8 matrix and fill it with a checkerboard pattern."
   ]
  },
  {
   "cell_type": "code",
   "execution_count": 370,
   "id": "43eddfdc",
   "metadata": {},
   "outputs": [
    {
     "data": {
      "text/plain": [
       "array([[0., 1., 0., 1., 0., 1., 0., 1.],\n",
       "       [1., 0., 1., 0., 1., 0., 1., 0.],\n",
       "       [0., 1., 0., 1., 0., 1., 0., 1.],\n",
       "       [1., 0., 1., 0., 1., 0., 1., 0.],\n",
       "       [0., 1., 0., 1., 0., 1., 0., 1.],\n",
       "       [1., 0., 1., 0., 1., 0., 1., 0.],\n",
       "       [0., 1., 0., 1., 0., 1., 0., 1.],\n",
       "       [1., 0., 1., 0., 1., 0., 1., 0.]])"
      ]
     },
     "execution_count": 370,
     "metadata": {},
     "output_type": "execute_result"
    }
   ],
   "source": [
    "arr = np.ones((8, 8))\n",
    "arr[::2, ::2] = 0\n",
    "arr[1::2, 1::2] = 0\n",
    "arr"
   ]
  },
  {
   "cell_type": "markdown",
   "id": "f3776a6a",
   "metadata": {},
   "source": [
    "### 11\\. Write a NumPy program to convert a list and tuple into arrays."
   ]
  },
  {
   "cell_type": "code",
   "execution_count": 5,
   "id": "b5a6dd5d",
   "metadata": {},
   "outputs": [
    {
     "name": "stdout",
     "output_type": "stream",
     "text": [
      "List to array: [1 2 3 4 5 6 7 8]\n",
      "Tuple to array:\n",
      " [[8 4 6]\n",
      " [1 2 3]]\n"
     ]
    }
   ],
   "source": [
    "my_list = [1, 2, 3, 4, 5, 6, 7, 8]\n",
    "print(\"List to array:\", np.asarray(my_list))\n",
    "\n",
    "my_tuple = ([8, 4, 6], [1, 2, 3])\n",
    "print(\"Tuple to array:\\n\", np.asarray(my_tuple))"
   ]
  },
  {
   "cell_type": "markdown",
   "id": "d6de133c",
   "metadata": {},
   "source": [
    "### 12\\. Write a NumPy program to append values to the end of an array."
   ]
  },
  {
   "cell_type": "code",
   "execution_count": 392,
   "id": "f9d043a1",
   "metadata": {},
   "outputs": [
    {
     "name": "stdout",
     "output_type": "stream",
     "text": [
      "Array:\n",
      " [10 20 30]\n",
      "After appending values to the end of the array:\n",
      " [10 20 30 40 50 60 70 80 90]\n"
     ]
    }
   ],
   "source": [
    "arr = np.array([10, 20, 30])\n",
    "print(\"Array:\\n\", arr)\n",
    "\n",
    "arr = np.append(arr, [[40, 50, 60], [70, 80, 90]])\n",
    "print(\"After appending values to the end of the array:\\n\", arr)"
   ]
  },
  {
   "cell_type": "markdown",
   "id": "6ab30598",
   "metadata": {},
   "source": [
    "### 13\\. Write a NumPy program to create an empty and a full array."
   ]
  },
  {
   "cell_type": "code",
   "execution_count": 406,
   "id": "0cc16786",
   "metadata": {},
   "outputs": [
    {
     "name": "stdout",
     "output_type": "stream",
     "text": [
      "Empty array:\n",
      " [[2.5e-323 2.5e-323 2.5e-323]\n",
      " [2.5e-323 2.5e-323 2.5e-323]\n",
      " [2.5e-323 2.5e-323 2.5e-323]]\n",
      "\n",
      "Full array:\n",
      " [[5 5 5]\n",
      " [5 5 5]\n",
      " [5 5 5]]\n"
     ]
    }
   ],
   "source": [
    "print(\"Empty array:\\n\", np.empty((3, 3)))\n",
    "print(\"\\nFull array:\\n\", np.full((3, 3), 5))"
   ]
  },
  {
   "cell_type": "markdown",
   "id": "6266038c",
   "metadata": {},
   "source": [
    "### 14\\. Write a NumPy program to convert the values of Centigrade degrees into Fahrenheit degrees and vice versa. Values are stored into a NumPy array."
   ]
  },
  {
   "cell_type": "markdown",
   "id": "5cf1fdbe",
   "metadata": {},
   "source": [
    "|![Fahrenheit-to-Celsius-Formula](https://d138zd1ktt9iqe.cloudfront.net/media/seo_landing_files/fahrenheit-to-celsius-02-1639022494.png)||![Celsius-to-Fahrenheit-Formula](https://d138zd1ktt9iqe.cloudfront.net/media/seo_landing_files/c-to-f-formula-1638963368.png)|\n",
    "|-|-|-|"
   ]
  },
  {
   "cell_type": "code",
   "execution_count": 475,
   "id": "6ec3055c",
   "metadata": {},
   "outputs": [
    {
     "name": "stdout",
     "output_type": "stream",
     "text": [
      "Values in Fahrenheit: [ 0.   12.   45.21 34.   99.91]\n",
      "Converted values in Celsius: [-17.78 -11.11   7.34   1.11  37.73]\n",
      "\n",
      "Values in Celsius: [-17.78 -11.11   7.34   1.11  37.73   0.  ]\n",
      "Converted values in Fahrenheit: [-0.   12.   45.21 34.   99.91 32.  ]\n"
     ]
    }
   ],
   "source": [
    "fvalues = np.array([0, 12, 45.21, 34, 99.91])\n",
    "cvalues = np.array([-17.78, -11.11, 7.34, 1.11, 37.73, 0])\n",
    "\n",
    "def to_fahnt(arr):\n",
    "    f_list = []\n",
    "    for x in np.nditer(arr):\n",
    "        x = x * 9 / 5 + 32\n",
    "        f_list.append(round(x, 2))\n",
    "    return np.array(f_list).reshape(arr.shape)\n",
    "\n",
    "def to_cels(arr):\n",
    "    c_list = []\n",
    "    for x in np.nditer(arr):\n",
    "        x = (x - 32) * 5 / 9\n",
    "        c_list.append(round(x, 2))\n",
    "    return np.array(c_list).reshape(arr.shape)\n",
    "\n",
    "print(\"Values in Fahrenheit:\", fvalues)\n",
    "print(\"Converted values in Celsius:\", to_cels(fvalues))\n",
    "print()\n",
    "print(\"Values in Celsius:\", cvalues)\n",
    "print(\"Converted values in Fahrenheit:\", to_fahnt(cvalues))"
   ]
  },
  {
   "cell_type": "code",
   "execution_count": 474,
   "id": "7c73199f",
   "metadata": {},
   "outputs": [
    {
     "name": "stdout",
     "output_type": "stream",
     "text": [
      "Values in Fahrenheit degrees:\n",
      " [ 0.   12.   45.21 34.   99.91 32.  ]\n",
      "Values in  Centigrade degrees:\n",
      "[-17.78 -11.11   7.34   1.11  37.73   0.  ]\n",
      "\n",
      "Values in Centigrade degrees:\n",
      " [-17.78 -11.11   7.34   1.11  37.73   0.  ]\n",
      "Values in  Fahrenheit degrees:\n",
      "[-0.   12.   45.21 34.   99.91 32.  ]\n"
     ]
    }
   ],
   "source": [
    "# Solution\n",
    "F = np.array([0, 12, 45.21, 34, 99.91, 32])\n",
    "print(\"Values in Fahrenheit degrees:\\n\", F)\n",
    "print(\"Values in  Centigrade degrees:\")\n",
    "print(np.round((F * 5/9 - 32*5/9), 2))\n",
    "\n",
    "C = np.array([-17.78, -11.11, 7.34, 1.11, 37.73, 0])\n",
    "print(\"\\nValues in Centigrade degrees:\\n\", C)\n",
    "print(\"Values in  Fahrenheit degrees:\")\n",
    "print(np.round((C * 9/5 + 32), 2))"
   ]
  },
  {
   "cell_type": "markdown",
   "id": "6b1f6909",
   "metadata": {},
   "source": [
    "### 15\\. Write a NumPy program to find the real and imaginary parts of an array of complex numbers."
   ]
  },
  {
   "cell_type": "code",
   "execution_count": 10,
   "id": "231aa7b0",
   "metadata": {},
   "outputs": [
    {
     "name": "stdout",
     "output_type": "stream",
     "text": [
      "[ 1.        +0.j          0.70710678+0.70710678j 12.        -8.j        ]\n",
      "Real part of the array:\n",
      " [ 1.          0.70710678 12.        ]\n",
      "Imaginary part of the array:\n",
      " [ 0.          0.70710678 -8.        ]\n"
     ]
    }
   ],
   "source": [
    "arr = np.array([1.00000000+0.j, 0.70710678+0.70710678j, 12-8j])\n",
    "print(arr)\n",
    "print(\"Real part of the array:\\n\", arr.real)\n",
    "print(\"Imaginary part of the array:\\n\", arr.imag)"
   ]
  },
  {
   "cell_type": "markdown",
   "id": "200f4e0a",
   "metadata": {},
   "source": [
    "### 16\\. Write a NumPy program to find the number of elements of an array, length of one array element in bytes and total bytes consumed by the elements."
   ]
  },
  {
   "cell_type": "code",
   "execution_count": 11,
   "id": "088bf987",
   "metadata": {},
   "outputs": [
    {
     "name": "stdout",
     "output_type": "stream",
     "text": [
      "Size of the array: 9\n",
      "Length of one array element in bytes: 8\n",
      "Total bytes consumed by the elements of the array: 72\n"
     ]
    }
   ],
   "source": [
    "arr = np.random.rand(3, 3)\n",
    "print(\"Size of the array:\", arr.size)\n",
    "print(\"Length of one array element in bytes:\", arr.itemsize)\n",
    "print(\"Total bytes consumed by the elements of the array:\", arr.nbytes)"
   ]
  },
  {
   "cell_type": "markdown",
   "id": "5c8827ba",
   "metadata": {},
   "source": [
    "### 17\\. Write a NumPy program to test whether each element of a 1-D array is also present in a second array."
   ]
  },
  {
   "cell_type": "code",
   "execution_count": 32,
   "id": "da806f59",
   "metadata": {},
   "outputs": [
    {
     "data": {
      "text/plain": [
       "array([False,  True,  True, False, False, False])"
      ]
     },
     "execution_count": 32,
     "metadata": {},
     "output_type": "execute_result"
    }
   ],
   "source": [
    "arr1 = np.array([1, 2, 4, 6, 8, 9])\n",
    "arr2 = np.array([2, 3, 4, 5, 7, 10])\n",
    "np.in1d(arr1, arr2)"
   ]
  },
  {
   "cell_type": "markdown",
   "id": "c6538f00",
   "metadata": {},
   "source": [
    "### 18\\. Write a NumPy program to find common values between two arrays."
   ]
  },
  {
   "cell_type": "code",
   "execution_count": 34,
   "id": "1f078db4",
   "metadata": {},
   "outputs": [
    {
     "data": {
      "text/plain": [
       "array([2, 4])"
      ]
     },
     "execution_count": 34,
     "metadata": {},
     "output_type": "execute_result"
    }
   ],
   "source": [
    "arr1 = np.array([1, 2, 4, 6, 8, 9])\n",
    "arr2 = np.array([2, 3, 4, 5, 7, 10])\n",
    "np.intersect1d(arr1, arr2)"
   ]
  },
  {
   "cell_type": "markdown",
   "id": "195fefd4",
   "metadata": {},
   "source": [
    "### 19\\. Write a NumPy program to get the unique elements of an array."
   ]
  },
  {
   "cell_type": "code",
   "execution_count": 47,
   "id": "dda030a5",
   "metadata": {},
   "outputs": [
    {
     "data": {
      "text/plain": [
       "array([ 1,  3,  5,  8, 12, 13, 20, 21])"
      ]
     },
     "execution_count": 47,
     "metadata": {},
     "output_type": "execute_result"
    }
   ],
   "source": [
    "arr = np.array([1, 3, 3, 5, 5, 8, 12, 20, 13, 8, 21, 20])\n",
    "np.unique(arr)"
   ]
  },
  {
   "cell_type": "markdown",
   "id": "afbc2768",
   "metadata": {},
   "source": [
    "### 20\\. Write a NumPy program to find the set difference of two arrays. The set difference will return the sorted, unique values in array1 that are not in array2."
   ]
  },
  {
   "cell_type": "code",
   "execution_count": 2,
   "id": "7334038f",
   "metadata": {
    "scrolled": true
   },
   "outputs": [
    {
     "data": {
      "text/plain": [
       "array([1, 6, 8, 9])"
      ]
     },
     "execution_count": 2,
     "metadata": {},
     "output_type": "execute_result"
    }
   ],
   "source": [
    "arr1 = np.array([1, 2, 4, 6, 8, 9])\n",
    "arr2 = np.array([2, 3, 4, 5, 7, 10])\n",
    "np.setdiff1d(arr1, arr2)"
   ]
  },
  {
   "cell_type": "markdown",
   "id": "f36fe555",
   "metadata": {},
   "source": [
    "### 21\\. Write a NumPy program to find the set exclusive-or of two arrays. Set exclusive-or will return the sorted, unique values that are in only one (not both) of the input arrays."
   ]
  },
  {
   "cell_type": "code",
   "execution_count": 12,
   "id": "a3168f70",
   "metadata": {},
   "outputs": [
    {
     "data": {
      "text/plain": [
       "array([ 0, 20, 30, 50, 60, 70, 80])"
      ]
     },
     "execution_count": 12,
     "metadata": {},
     "output_type": "execute_result"
    }
   ],
   "source": [
    "arr1 = np.array([0, 10, 20, 40, 60, 80])\n",
    "arr2 = np.array([10, 30, 40, 50, 70])\n",
    "np.setxor1d(arr1, arr2)"
   ]
  },
  {
   "cell_type": "markdown",
   "id": "7486d187",
   "metadata": {},
   "source": [
    "### 22\\. Write a NumPy program to find the union of two arrays. Union will return the unique, sorted array of values that are in either of the two input arrays."
   ]
  },
  {
   "cell_type": "code",
   "execution_count": 5,
   "id": "daf7371e",
   "metadata": {},
   "outputs": [
    {
     "data": {
      "text/plain": [
       "array([ 0, 10, 20, 30, 40, 50, 60, 70, 80])"
      ]
     },
     "execution_count": 5,
     "metadata": {},
     "output_type": "execute_result"
    }
   ],
   "source": [
    "arr1 = np.array([0, 10, 20, 40, 60, 80])\n",
    "arr2 = np.array([10, 30, 40, 50, 70])\n",
    "np.union1d(arr1, arr2)"
   ]
  },
  {
   "cell_type": "markdown",
   "id": "77777c29",
   "metadata": {},
   "source": [
    "### 23\\. Write a NumPy program to test whether all elements in an array evaluate to True."
   ]
  },
  {
   "cell_type": "code",
   "execution_count": 23,
   "id": "dbab3329",
   "metadata": {},
   "outputs": [
    {
     "name": "stdout",
     "output_type": "stream",
     "text": [
      "False\n",
      "True\n",
      "False\n",
      "True\n"
     ]
    }
   ],
   "source": [
    "print(np.all([[True,False],[True,True]]))\n",
    "print(np.all([[True,True],[True,True]]))\n",
    "print(np.all([10, 20, 0, -50]))\n",
    "print(np.all([10, 20, -50]))"
   ]
  },
  {
   "cell_type": "markdown",
   "id": "63417fb4",
   "metadata": {},
   "source": [
    "### 24\\. Write a NumPy program to test whether any array element along a given axis evaluates to True."
   ]
  },
  {
   "cell_type": "code",
   "execution_count": 22,
   "id": "63ce2ebb",
   "metadata": {
    "scrolled": true
   },
   "outputs": [
    {
     "name": "stdout",
     "output_type": "stream",
     "text": [
      "True\n",
      "True\n",
      "True\n",
      "True\n"
     ]
    }
   ],
   "source": [
    "print(np.any([[True,False],[True,True]]))\n",
    "print(np.any([[True,True],[True,True]]))\n",
    "print(np.any([10, 20, 0, -50]))\n",
    "print(np.any([10, 20, -50]))"
   ]
  },
  {
   "cell_type": "markdown",
   "id": "409393a3",
   "metadata": {},
   "source": [
    "### 25\\. Write a NumPy program to construct an array by repeating."
   ]
  },
  {
   "cell_type": "code",
   "execution_count": 57,
   "id": "28ab8011",
   "metadata": {},
   "outputs": [
    {
     "name": "stdout",
     "output_type": "stream",
     "text": [
      "Orignal array: [1 2 3 4]\n",
      "Repeating 2 times: [1 2 3 4 1 2 3 4]\n",
      "Repeating 3 times: [1 2 3 4 1 2 3 4 1 2 3 4]\n"
     ]
    }
   ],
   "source": [
    "arr = np.array([1, 2, 3, 4])\n",
    "print(\"Orignal array:\", arr)\n",
    "\n",
    "print(\"Repeating 2 times:\", np.array([arr] * 2).flatten())\n",
    "print(\"Repeating 3 times:\", np.array([arr] * 3).flatten())"
   ]
  },
  {
   "cell_type": "code",
   "execution_count": 59,
   "id": "63fbd7a8",
   "metadata": {},
   "outputs": [
    {
     "name": "stdout",
     "output_type": "stream",
     "text": [
      "Repeating 2 times: [1 2 3 4 1 2 3 4]\n",
      "Repeating 3 times: [1 2 3 4 1 2 3 4 1 2 3 4]\n"
     ]
    }
   ],
   "source": [
    "# Solution\n",
    "print(\"Repeating 2 times:\", np.tile(arr, 2))\n",
    "print(\"Repeating 3 times:\", np.tile(arr, 3))"
   ]
  },
  {
   "cell_type": "markdown",
   "id": "25e49d46",
   "metadata": {},
   "source": [
    "### 26\\. Write a NumPy program to repeat elements of an array."
   ]
  },
  {
   "cell_type": "code",
   "execution_count": 64,
   "id": "b3bd7203",
   "metadata": {},
   "outputs": [
    {
     "name": "stdout",
     "output_type": "stream",
     "text": [
      "Original array: [1 2 3 4]\n"
     ]
    },
    {
     "data": {
      "text/plain": [
       "array([1, 1, 2, 2, 3, 3, 4, 4])"
      ]
     },
     "execution_count": 64,
     "metadata": {},
     "output_type": "execute_result"
    }
   ],
   "source": [
    "print(\"Original array:\", arr)\n",
    "np.repeat(arr, 2)"
   ]
  },
  {
   "cell_type": "markdown",
   "id": "d1a43483",
   "metadata": {},
   "source": [
    "### 27\\. Write a NumPy program to find the indices of the maximum and minimum values along the given axis of an array."
   ]
  },
  {
   "cell_type": "code",
   "execution_count": 68,
   "id": "38dd8f6c",
   "metadata": {},
   "outputs": [
    {
     "name": "stdout",
     "output_type": "stream",
     "text": [
      "Index of the Maximum Value: 5\n",
      "Index of the Minimum Value: 0\n"
     ]
    }
   ],
   "source": [
    "arr = np.array([1, 2, 3, 4, 5, 6])\n",
    "print(\"Index of the Maximum Value:\", arr.argmax())\n",
    "print(\"Index of the Minimum Value:\", arr.argmin())"
   ]
  },
  {
   "cell_type": "markdown",
   "id": "b90e0f3a",
   "metadata": {},
   "source": [
    "### 28\\. Write a NumPy program compare two given arrays."
   ]
  },
  {
   "cell_type": "code",
   "execution_count": 75,
   "id": "7f4a9cb6",
   "metadata": {},
   "outputs": [
    {
     "name": "stdout",
     "output_type": "stream",
     "text": [
      "Array a: [1 3]\n",
      "Array b: [5 7]\n",
      "\n",
      "a > b: [False False]\n",
      "a >= b: [False False]\n",
      "a < b: [ True  True]\n",
      "a <= b: [ True  True]\n"
     ]
    }
   ],
   "source": [
    "a = np.array([1, 3])\n",
    "b = np.array([5, 7])\n",
    "print('Array a:', a)\n",
    "print('Array b:', b)\n",
    "\n",
    "print(\"\\na > b:\", np.greater(a, b))  # a > b\n",
    "print(\"a >= b:\", np.greater_equal(a, b))  # a >= b\n",
    "print(\"a < b:\", np.less(a, b))  # a < b\n",
    "print(\"a <= b:\", np.less_equal(a, b))  # a <= b"
   ]
  },
  {
   "cell_type": "markdown",
   "id": "85addc6f",
   "metadata": {},
   "source": [
    "### 29\\. Write a NumPy program to sort an along the first, last axis of an array."
   ]
  },
  {
   "cell_type": "code",
   "execution_count": 87,
   "id": "5d3881e7",
   "metadata": {},
   "outputs": [
    {
     "name": "stdout",
     "output_type": "stream",
     "text": [
      "Original array:\n",
      " [[ 2  7]\n",
      " [12  3]\n",
      " [ 5 10]]\n",
      "Sorted by columns:\n",
      " [[ 2  3]\n",
      " [ 5  7]\n",
      " [12 10]]\n",
      "Sorted by rows:\n",
      " [[ 2  7]\n",
      " [ 3 12]\n",
      " [ 5 10]]\n"
     ]
    }
   ],
   "source": [
    "arr = np.array([[2, 7], [12, 3], [5, 10]])\n",
    "print(\"Original array:\\n\", arr)\n",
    "\n",
    "print(\"Sorted by columns:\\n\", np.sort(arr, axis=0))\n",
    "print(\"Sorted by rows:\\n\", np.sort(arr, axis=1))"
   ]
  },
  {
   "cell_type": "markdown",
   "id": "80d94c55",
   "metadata": {},
   "source": [
    "### 30\\. Write a NumPy program to sort pairs of first name and last name return their indices. (first by last name, then by first name)."
   ]
  },
  {
   "cell_type": "code",
   "execution_count": 60,
   "id": "981f897a",
   "metadata": {},
   "outputs": [
    {
     "data": {
      "text/plain": [
       "array([1, 3, 2, 4, 0])"
      ]
     },
     "execution_count": 60,
     "metadata": {},
     "output_type": "execute_result"
    }
   ],
   "source": [
    "first_names = ('Margery', 'Betsey', 'Shelley', 'Lanell', 'Genesis')\n",
    "last_names = ('Woolum', 'Battle', 'Plotner', 'Brien', 'Stahl')\n",
    "np.lexsort((first_names, last_names))"
   ]
  },
  {
   "cell_type": "code",
   "execution_count": 62,
   "id": "506967ea",
   "metadata": {},
   "outputs": [
    {
     "data": {
      "text/plain": [
       "array([2, 0, 4, 6, 5, 3, 1])"
      ]
     },
     "execution_count": 62,
     "metadata": {},
     "output_type": "execute_result"
    }
   ],
   "source": [
    "# Sort two columns of numbers:\n",
    "a = [1,5,1,4,3,4,4] # First column\n",
    "b = [9,4,0,4,0,2,1] # Second column\n",
    "ind = np.lexsort((b,a)) # Sort by a, then by b\n",
    "ind"
   ]
  },
  {
   "cell_type": "markdown",
   "id": "778bbf4c",
   "metadata": {},
   "source": [
    "### 31\\. Write a NumPy program to get the values and indices of the elements that are bigger than 10 in a given array."
   ]
  },
  {
   "cell_type": "code",
   "execution_count": 77,
   "id": "08ab02a2",
   "metadata": {},
   "outputs": [
    {
     "name": "stdout",
     "output_type": "stream",
     "text": [
      "Valeus bigger than 10: [20 20 30 40]\n",
      "Their indices are (array([0, 1, 1, 1]), array([2, 0, 1, 2]))\n"
     ]
    }
   ],
   "source": [
    "arr = np.array([[0, 10, 20], [20, 30, 40]])\n",
    "print(\"Valeus bigger than 10:\", arr[arr > 10])\n",
    "print(\"Their indices are\", np.nonzero(arr > 10))"
   ]
  },
  {
   "cell_type": "markdown",
   "id": "473d274e",
   "metadata": {},
   "source": [
    "### 32\\. Write a NumPy program to save a NumPy array to a text file."
   ]
  },
  {
   "cell_type": "code",
   "execution_count": 7,
   "id": "37023439",
   "metadata": {},
   "outputs": [],
   "source": [
    "arr = np.random.rand(3, 3)\n",
    "np.save('array.npy', arr)"
   ]
  },
  {
   "cell_type": "code",
   "execution_count": 10,
   "id": "1b1459e9",
   "metadata": {},
   "outputs": [
    {
     "data": {
      "text/plain": [
       "array([[0.55770331, 0.16262395, 0.54884736],\n",
       "       [0.88677755, 0.13648052, 0.80865767],\n",
       "       [0.94826595, 0.69586626, 0.25409771]])"
      ]
     },
     "execution_count": 10,
     "metadata": {},
     "output_type": "execute_result"
    }
   ],
   "source": [
    "np.load('array.npy')"
   ]
  },
  {
   "cell_type": "markdown",
   "id": "b47be578",
   "metadata": {},
   "source": [
    "### 33\\. Write a NumPy program to find the memory size of a NumPy array."
   ]
  },
  {
   "cell_type": "code",
   "execution_count": 16,
   "id": "19b9e4ab",
   "metadata": {},
   "outputs": [
    {
     "data": {
      "text/plain": [
       "72"
      ]
     },
     "execution_count": 16,
     "metadata": {},
     "output_type": "execute_result"
    }
   ],
   "source": [
    "arr.nbytes"
   ]
  },
  {
   "cell_type": "markdown",
   "id": "3719d7a6",
   "metadata": {},
   "source": [
    "### 34\\. Write a NumPy program to create an array of ones and an array of zeros."
   ]
  },
  {
   "cell_type": "code",
   "execution_count": 27,
   "id": "89826257",
   "metadata": {},
   "outputs": [
    {
     "data": {
      "text/plain": [
       "array([[1., 1., 1.],\n",
       "       [1., 1., 1.],\n",
       "       [1., 1., 1.]])"
      ]
     },
     "execution_count": 27,
     "metadata": {},
     "output_type": "execute_result"
    }
   ],
   "source": [
    "a1 = np.ones((3, 3))\n",
    "a1"
   ]
  },
  {
   "cell_type": "code",
   "execution_count": 29,
   "id": "6ef08ef8",
   "metadata": {},
   "outputs": [
    {
     "data": {
      "text/plain": [
       "array([[1, 1, 1],\n",
       "       [1, 1, 1],\n",
       "       [1, 1, 1]], dtype=int32)"
      ]
     },
     "execution_count": 29,
     "metadata": {},
     "output_type": "execute_result"
    }
   ],
   "source": [
    "a1.astype('int32')"
   ]
  },
  {
   "cell_type": "code",
   "execution_count": 26,
   "id": "24576e6d",
   "metadata": {},
   "outputs": [
    {
     "data": {
      "text/plain": [
       "array([[0., 0., 0.],\n",
       "       [0., 0., 0.],\n",
       "       [0., 0., 0.]])"
      ]
     },
     "execution_count": 26,
     "metadata": {},
     "output_type": "execute_result"
    }
   ],
   "source": [
    "a2 = np.zeros((3, 3))\n",
    "a2"
   ]
  },
  {
   "cell_type": "code",
   "execution_count": 30,
   "id": "2a10d33c",
   "metadata": {},
   "outputs": [
    {
     "data": {
      "text/plain": [
       "array([[0, 0, 0],\n",
       "       [0, 0, 0],\n",
       "       [0, 0, 0]], dtype=int32)"
      ]
     },
     "execution_count": 30,
     "metadata": {},
     "output_type": "execute_result"
    }
   ],
   "source": [
    "a2.astype('int32')"
   ]
  },
  {
   "cell_type": "markdown",
   "id": "c3385c4a",
   "metadata": {},
   "source": [
    "### 35\\. Write a NumPy program to change the dimension of an array."
   ]
  },
  {
   "cell_type": "code",
   "execution_count": 5,
   "id": "30a276fb",
   "metadata": {},
   "outputs": [
    {
     "name": "stdout",
     "output_type": "stream",
     "text": [
      "[0 1 2 3 4 5]\n"
     ]
    },
    {
     "data": {
      "text/plain": [
       "(6,)"
      ]
     },
     "execution_count": 5,
     "metadata": {},
     "output_type": "execute_result"
    }
   ],
   "source": [
    "arr = np.arange(6)\n",
    "print(arr)\n",
    "arr.shape"
   ]
  },
  {
   "cell_type": "code",
   "execution_count": 8,
   "id": "4c3d32b4",
   "metadata": {},
   "outputs": [
    {
     "name": "stdout",
     "output_type": "stream",
     "text": [
      "[[0 1 2]\n",
      " [3 4 5]]\n"
     ]
    },
    {
     "data": {
      "text/plain": [
       "(2, 3)"
      ]
     },
     "execution_count": 8,
     "metadata": {},
     "output_type": "execute_result"
    }
   ],
   "source": [
    "arr = arr.reshape(2, 3)\n",
    "print(arr)\n",
    "arr.shape"
   ]
  },
  {
   "cell_type": "code",
   "execution_count": 13,
   "id": "4a55c968",
   "metadata": {},
   "outputs": [
    {
     "name": "stdout",
     "output_type": "stream",
     "text": [
      "x = [1 2 3 4 5 6]\n",
      "shape: (6,)\n",
      "\n",
      "[[1 2 3]\n",
      " [4 5 6]]\n",
      "shape: (2, 3)\n"
     ]
    }
   ],
   "source": [
    "# Solution\n",
    "x = np.array([1, 2, 3, 4, 5, 6])\n",
    "print(\"x =\", x)\n",
    "print(\"shape:\", x.shape)\n",
    "print()\n",
    "# change array shape\n",
    "x.shape = (2, 3)\n",
    "print(x)\n",
    "print(\"shape:\", x.shape)"
   ]
  },
  {
   "cell_type": "markdown",
   "id": "8ca0f930",
   "metadata": {},
   "source": [
    "### 36\\. Write a NumPy program to create a contiguous flattened array."
   ]
  },
  {
   "cell_type": "code",
   "execution_count": 29,
   "id": "ef6b821e",
   "metadata": {},
   "outputs": [
    {
     "name": "stdout",
     "output_type": "stream",
     "text": [
      "Original array:\n",
      " [[10 20 30]\n",
      " [40 50 60]]\n",
      "\n",
      "Flattened array: [10 20 30 40 50 60]\n"
     ]
    }
   ],
   "source": [
    "x = np.array([[10, 20, 30], [40, 50, 60]])\n",
    "print(\"Original array:\\n\", x)\n",
    "print(\"\\nFlattened array:\", x.flatten())"
   ]
  },
  {
   "cell_type": "code",
   "execution_count": 31,
   "id": "762b2c06",
   "metadata": {},
   "outputs": [
    {
     "name": "stdout",
     "output_type": "stream",
     "text": [
      "Original array:\n",
      " [[10 20 30]\n",
      " [20 40 50]]\n",
      "\n",
      "New flattened array: [10 20 30 20 40 50]\n"
     ]
    }
   ],
   "source": [
    "# Solution\n",
    "x = np.array([[10, 20, 30], [20, 40, 50]])\n",
    "print(\"Original array:\\n\", x)\n",
    "\n",
    "y = np.ravel(x)\n",
    "print(\"\\nNew flattened array:\", y)"
   ]
  },
  {
   "cell_type": "markdown",
   "id": "574b1baf",
   "metadata": {},
   "source": [
    "### 37\\. Write a NumPy program to create a 2-dimensional array of size 2 x 3 (composed of 4-byte integer elements), also print the shape, type and data type of the array."
   ]
  },
  {
   "cell_type": "code",
   "execution_count": 41,
   "id": "34930bff",
   "metadata": {},
   "outputs": [
    {
     "name": "stdout",
     "output_type": "stream",
     "text": [
      "<class 'numpy.ndarray'>\n",
      "array shape: (6,)\n"
     ]
    },
    {
     "data": {
      "text/plain": [
       "array([1, 2, 3, 4, 5, 6], dtype=int32)"
      ]
     },
     "execution_count": 41,
     "metadata": {},
     "output_type": "execute_result"
    }
   ],
   "source": [
    "arr = np.arange(1, 7, dtype=np.int32)\n",
    "print(type(arr))\n",
    "print(\"array shape:\", arr.shape)\n",
    "arr"
   ]
  },
  {
   "cell_type": "markdown",
   "id": "107e7ab2",
   "metadata": {},
   "source": [
    "###  38\\. Write a NumPy program to create a new shape to an array without changing its data."
   ]
  },
  {
   "cell_type": "code",
   "execution_count": 51,
   "id": "c0d2e2d1",
   "metadata": {},
   "outputs": [
    {
     "name": "stdout",
     "output_type": "stream",
     "text": [
      "[[1 2]\n",
      " [3 4]\n",
      " [5 6]]\n",
      "Reshape 2x3:\n",
      " [[1 2 3]\n",
      " [4 5 6]]\n"
     ]
    }
   ],
   "source": [
    "x = np.arange(1, 7).reshape(3, 2)\n",
    "print(x)\n",
    "print(\"Reshape 2x3:\\n\", np.reshape(x, (2, 3)))"
   ]
  },
  {
   "cell_type": "markdown",
   "id": "5ea7ad59",
   "metadata": {},
   "source": [
    "### 39\\. Write a NumPy program to change the data type of an array."
   ]
  },
  {
   "cell_type": "code",
   "execution_count": 90,
   "id": "3d62be8d",
   "metadata": {},
   "outputs": [
    {
     "name": "stdout",
     "output_type": "stream",
     "text": [
      "[[0.68941344 0.52735828 0.43434829 0.61387401]\n",
      " [0.58890368 0.41005548 0.1864511  0.42074089]\n",
      " [0.67876431 0.0363673  0.29878403 0.04055936]]\n",
      "Data type: float64\n",
      "Change data type to float16:\n",
      " [[0.6895  0.5273  0.4343  0.614  ]\n",
      " [0.589   0.4102  0.1864  0.4207 ]\n",
      " [0.6787  0.03638 0.2988  0.04056]]\n"
     ]
    }
   ],
   "source": [
    "x = np.random.rand(3, 4)\n",
    "print(x)\n",
    "print(\"Data type:\", x.dtype)\n",
    "print(\"Change data type to float16:\\n\", np.array(x, dtype=np.float16))\n",
    "# print(\"Change data type to float16:\\n\", x.astype(np.float16))"
   ]
  },
  {
   "cell_type": "markdown",
   "id": "735c9da8",
   "metadata": {},
   "source": [
    "### 40\\. Write a NumPy program to create a new array of 3*5, filled with 2."
   ]
  },
  {
   "cell_type": "code",
   "execution_count": 105,
   "id": "4f7eaed5",
   "metadata": {},
   "outputs": [
    {
     "data": {
      "text/plain": [
       "array([[2, 2, 2, 2, 2],\n",
       "       [2, 2, 2, 2, 2],\n",
       "       [2, 2, 2, 2, 2]])"
      ]
     },
     "execution_count": 105,
     "metadata": {},
     "output_type": "execute_result"
    }
   ],
   "source": [
    "np.full((3, 5), 2)"
   ]
  },
  {
   "cell_type": "markdown",
   "id": "a2d337b5",
   "metadata": {},
   "source": [
    "### 41\\. Write a NumPy program to create an array of 10's with the same shape and type of a given array."
   ]
  },
  {
   "cell_type": "code",
   "execution_count": 119,
   "id": "7100674c",
   "metadata": {},
   "outputs": [
    {
     "name": "stdout",
     "output_type": "stream",
     "text": [
      "Array: [0 1 2 3]\n"
     ]
    },
    {
     "data": {
      "text/plain": [
       "array([10, 10, 10, 10])"
      ]
     },
     "execution_count": 119,
     "metadata": {},
     "output_type": "execute_result"
    }
   ],
   "source": [
    "x = np.arange(4, dtype=np.int64)\n",
    "print(\"Array:\", x)\n",
    "np.full_like(x, 10)"
   ]
  },
  {
   "cell_type": "markdown",
   "id": "9ef120b1",
   "metadata": {},
   "source": [
    "### 42\\. Write a NumPy program to create a 3-D array with ones on a diagonal and zeros elsewhere."
   ]
  },
  {
   "cell_type": "code",
   "execution_count": 131,
   "id": "2549b991",
   "metadata": {},
   "outputs": [
    {
     "data": {
      "text/plain": [
       "array([[1., 0., 0.],\n",
       "       [0., 1., 0.],\n",
       "       [0., 0., 1.]])"
      ]
     },
     "execution_count": 131,
     "metadata": {},
     "output_type": "execute_result"
    }
   ],
   "source": [
    "np.eye(3)"
   ]
  },
  {
   "cell_type": "markdown",
   "id": "b2cd3ab6",
   "metadata": {},
   "source": [
    "### 43\\. Write a NumPy program to create a 2-D array whose diagonal equals [4, 5, 6, 8] and 0's elsewhere."
   ]
  },
  {
   "cell_type": "code",
   "execution_count": 138,
   "id": "edd5ef34",
   "metadata": {},
   "outputs": [
    {
     "data": {
      "text/plain": [
       "array([[4, 0, 0, 0],\n",
       "       [0, 5, 0, 0],\n",
       "       [0, 0, 6, 0],\n",
       "       [0, 0, 0, 8]])"
      ]
     },
     "execution_count": 138,
     "metadata": {},
     "output_type": "execute_result"
    }
   ],
   "source": [
    "np.diag([4, 5, 6, 8])"
   ]
  },
  {
   "cell_type": "markdown",
   "id": "a55208d5",
   "metadata": {},
   "source": [
    "### 44\\. Write a NumPy program to create a 1-D array going from 0 to 50 and an array from 10 to 50."
   ]
  },
  {
   "cell_type": "code",
   "execution_count": 140,
   "id": "2dd73a01",
   "metadata": {},
   "outputs": [
    {
     "name": "stdout",
     "output_type": "stream",
     "text": [
      "Array from 0 to 50:\n",
      " [ 0  1  2  3  4  5  6  7  8  9 10 11 12 13 14 15 16 17 18 19 20 21 22 23\n",
      " 24 25 26 27 28 29 30 31 32 33 34 35 36 37 38 39 40 41 42 43 44 45 46 47\n",
      " 48 49]\n",
      "Array from 10 to 50:\n",
      " [10 11 12 13 14 15 16 17 18 19 20 21 22 23 24 25 26 27 28 29 30 31 32 33\n",
      " 34 35 36 37 38 39 40 41 42 43 44 45 46 47 48 49]\n"
     ]
    }
   ],
   "source": [
    "arr1 = np.arange(50)\n",
    "arr2 = np.arange(10, 50)\n",
    "print(\"Array from 0 to 50:\\n\", arr1)\n",
    "print(\"Array from 10 to 50:\\n\", arr2)"
   ]
  },
  {
   "cell_type": "markdown",
   "id": "9284a75d",
   "metadata": {},
   "source": [
    "### 45\\. Write a NumPy program to Create a 1-D array of 30 evenly spaced elements between 2.5. and 6.5, inclusive."
   ]
  },
  {
   "cell_type": "code",
   "execution_count": 144,
   "id": "3a5a25a4",
   "metadata": {},
   "outputs": [
    {
     "data": {
      "text/plain": [
       "array([2.5       , 2.63793103, 2.77586207, 2.9137931 , 3.05172414,\n",
       "       3.18965517, 3.32758621, 3.46551724, 3.60344828, 3.74137931,\n",
       "       3.87931034, 4.01724138, 4.15517241, 4.29310345, 4.43103448,\n",
       "       4.56896552, 4.70689655, 4.84482759, 4.98275862, 5.12068966,\n",
       "       5.25862069, 5.39655172, 5.53448276, 5.67241379, 5.81034483,\n",
       "       5.94827586, 6.0862069 , 6.22413793, 6.36206897, 6.5       ])"
      ]
     },
     "execution_count": 144,
     "metadata": {},
     "output_type": "execute_result"
    }
   ],
   "source": [
    "np.linspace(2.5, 6.5, 30)"
   ]
  },
  {
   "cell_type": "markdown",
   "id": "882b7478",
   "metadata": {},
   "source": [
    "### 46\\. Write a NumPy program to create a 1-D array of 20 element spaced evenly on a log scale between 2. and 5., exclusive."
   ]
  },
  {
   "cell_type": "code",
   "execution_count": 146,
   "id": "a9bfc17c",
   "metadata": {},
   "outputs": [
    {
     "data": {
      "text/plain": [
       "array([   100.        ,    143.84498883,    206.91380811,    297.63514416,\n",
       "          428.13323987,    615.84821107,    885.86679041,   1274.2749857 ,\n",
       "         1832.98071083,   2636.65089873,   3792.69019073,   5455.59478117,\n",
       "         7847.59970351,  11288.37891685,  16237.76739189,  23357.2146909 ,\n",
       "        33598.18286284,  48329.30238572,  69519.27961776, 100000.        ])"
      ]
     },
     "execution_count": 146,
     "metadata": {},
     "output_type": "execute_result"
    }
   ],
   "source": [
    "np.logspace(2, 5, 20)"
   ]
  },
  {
   "cell_type": "markdown",
   "id": "38e21f49",
   "metadata": {},
   "source": [
    "### 47\\. Write a NumPy program to create an array which looks like below array."
   ]
  },
  {
   "cell_type": "code",
   "execution_count": 161,
   "id": "11e584b2",
   "metadata": {},
   "outputs": [
    {
     "data": {
      "text/plain": [
       "array([[0., 0., 0.],\n",
       "       [1., 0., 0.],\n",
       "       [1., 1., 0.],\n",
       "       [1., 1., 1.]])"
      ]
     },
     "execution_count": 161,
     "metadata": {},
     "output_type": "execute_result"
    }
   ],
   "source": [
    "np.tri(4, 3, -1)"
   ]
  },
  {
   "cell_type": "code",
   "execution_count": null,
   "id": "b3ad4d14",
   "metadata": {},
   "outputs": [],
   "source": []
  },
  {
   "cell_type": "code",
   "execution_count": null,
   "id": "3e4247ce",
   "metadata": {},
   "outputs": [],
   "source": []
  },
  {
   "cell_type": "code",
   "execution_count": null,
   "id": "a7c10b9f",
   "metadata": {},
   "outputs": [],
   "source": []
  },
  {
   "cell_type": "code",
   "execution_count": null,
   "id": "7c187e0e",
   "metadata": {},
   "outputs": [],
   "source": []
  },
  {
   "cell_type": "code",
   "execution_count": null,
   "id": "3f721372",
   "metadata": {},
   "outputs": [],
   "source": []
  }
 ],
 "metadata": {
  "kernelspec": {
   "display_name": "Python 3 (ipykernel)",
   "language": "python",
   "name": "python3"
  },
  "language_info": {
   "codemirror_mode": {
    "name": "ipython",
    "version": 3
   },
   "file_extension": ".py",
   "mimetype": "text/x-python",
   "name": "python",
   "nbconvert_exporter": "python",
   "pygments_lexer": "ipython3",
   "version": "3.9.13"
  },
  "vscode": {
   "interpreter": {
    "hash": "2c7666c1320a956fa05893d10993164efa76d3af81fc7470d6f4943526f3df36"
   }
  }
 },
 "nbformat": 4,
 "nbformat_minor": 5
}
