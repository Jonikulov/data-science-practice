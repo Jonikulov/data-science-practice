{
 "cells": [
  {
   "cell_type": "markdown",
   "id": "a9342aca",
   "metadata": {},
   "source": [
    "# NumPy Basic: 59 exercises\n",
    "\n",
    "**LINK -> https://w3resource.com/python-exercises/numpy/basic/index.php**\n",
    "\n",
    "---"
   ]
  },
  {
   "cell_type": "code",
   "execution_count": 1,
   "id": "94ebcabc",
   "metadata": {},
   "outputs": [],
   "source": [
    "import numpy as np"
   ]
  },
  {
   "cell_type": "markdown",
   "id": "bfb85c50",
   "metadata": {},
   "source": [
    "### 1\\. Write a NumPy program to get the numpy version and show numpy build configuration."
   ]
  },
  {
   "cell_type": "code",
   "execution_count": 24,
   "id": "7cf53643",
   "metadata": {
    "scrolled": false
   },
   "outputs": [
    {
     "name": "stdout",
     "output_type": "stream",
     "text": [
      "NumPy version: 1.21.5\n",
      "blas_mkl_info:\n",
      "    libraries = ['mkl_rt', 'pthread']\n",
      "    library_dirs = ['/home/javohir/anaconda3/lib']\n",
      "    define_macros = [('SCIPY_MKL_H', None), ('HAVE_CBLAS', None)]\n",
      "    include_dirs = ['/home/javohir/anaconda3/include']\n",
      "blas_opt_info:\n",
      "    libraries = ['mkl_rt', 'pthread']\n",
      "    library_dirs = ['/home/javohir/anaconda3/lib']\n",
      "    define_macros = [('SCIPY_MKL_H', None), ('HAVE_CBLAS', None)]\n",
      "    include_dirs = ['/home/javohir/anaconda3/include']\n",
      "lapack_mkl_info:\n",
      "    libraries = ['mkl_rt', 'pthread']\n",
      "    library_dirs = ['/home/javohir/anaconda3/lib']\n",
      "    define_macros = [('SCIPY_MKL_H', None), ('HAVE_CBLAS', None)]\n",
      "    include_dirs = ['/home/javohir/anaconda3/include']\n",
      "lapack_opt_info:\n",
      "    libraries = ['mkl_rt', 'pthread']\n",
      "    library_dirs = ['/home/javohir/anaconda3/lib']\n",
      "    define_macros = [('SCIPY_MKL_H', None), ('HAVE_CBLAS', None)]\n",
      "    include_dirs = ['/home/javohir/anaconda3/include']\n",
      "Supported SIMD extensions in this NumPy install:\n",
      "    baseline = SSE,SSE2,SSE3\n",
      "    found = SSSE3,SSE41,POPCNT,SSE42,AVX,F16C,FMA3,AVX2,AVX512F,AVX512CD,AVX512_SKX,AVX512_CLX,AVX512_CNL,AVX512_ICL\n",
      "    not found = AVX512_KNL,AVX512_KNM\n",
      "None\n"
     ]
    }
   ],
   "source": [
    "print('NumPy version:', np.__version__)\n",
    "print(np.show_config())"
   ]
  },
  {
   "cell_type": "markdown",
   "id": "30e0527a",
   "metadata": {},
   "source": [
    "### 2\\. Write a NumPy program to  get help on the add function."
   ]
  },
  {
   "cell_type": "code",
   "execution_count": 25,
   "id": "c2c74489",
   "metadata": {
    "scrolled": false
   },
   "outputs": [
    {
     "name": "stdout",
     "output_type": "stream",
     "text": [
      "Help on ufunc:\n",
      "\n",
      "add = <ufunc 'add'>\n",
      "    add(x1, x2, /, out=None, *, where=True, casting='same_kind', order='K', dtype=None, subok=True[, signature, extobj])\n",
      "    \n",
      "    Add arguments element-wise.\n",
      "    \n",
      "    Parameters\n",
      "    ----------\n",
      "    x1, x2 : array_like\n",
      "        The arrays to be added.\n",
      "        If ``x1.shape != x2.shape``, they must be broadcastable to a common\n",
      "        shape (which becomes the shape of the output).\n",
      "    out : ndarray, None, or tuple of ndarray and None, optional\n",
      "        A location into which the result is stored. If provided, it must have\n",
      "        a shape that the inputs broadcast to. If not provided or None,\n",
      "        a freshly-allocated array is returned. A tuple (possible only as a\n",
      "        keyword argument) must have length equal to the number of outputs.\n",
      "    where : array_like, optional\n",
      "        This condition is broadcast over the input. At locations where the\n",
      "        condition is True, the `out` array will be set to the ufunc result.\n",
      "        Elsewhere, the `out` array will retain its original value.\n",
      "        Note that if an uninitialized `out` array is created via the default\n",
      "        ``out=None``, locations within it where the condition is False will\n",
      "        remain uninitialized.\n",
      "    **kwargs\n",
      "        For other keyword-only arguments, see the\n",
      "        :ref:`ufunc docs <ufuncs.kwargs>`.\n",
      "    \n",
      "    Returns\n",
      "    -------\n",
      "    add : ndarray or scalar\n",
      "        The sum of `x1` and `x2`, element-wise.\n",
      "        This is a scalar if both `x1` and `x2` are scalars.\n",
      "    \n",
      "    Notes\n",
      "    -----\n",
      "    Equivalent to `x1` + `x2` in terms of array broadcasting.\n",
      "    \n",
      "    Examples\n",
      "    --------\n",
      "    >>> np.add(1.0, 4.0)\n",
      "    5.0\n",
      "    >>> x1 = np.arange(9.0).reshape((3, 3))\n",
      "    >>> x2 = np.arange(3.0)\n",
      "    >>> np.add(x1, x2)\n",
      "    array([[  0.,   2.,   4.],\n",
      "           [  3.,   5.,   7.],\n",
      "           [  6.,   8.,  10.]])\n",
      "    \n",
      "    The ``+`` operator can be used as a shorthand for ``np.add`` on ndarrays.\n",
      "    \n",
      "    >>> x1 = np.arange(9.0).reshape((3, 3))\n",
      "    >>> x2 = np.arange(3.0)\n",
      "    >>> x1 + x2\n",
      "    array([[ 0.,  2.,  4.],\n",
      "           [ 3.,  5.,  7.],\n",
      "           [ 6.,  8., 10.]])\n",
      "\n"
     ]
    }
   ],
   "source": [
    "help(np.add)"
   ]
  },
  {
   "cell_type": "code",
   "execution_count": 26,
   "id": "65f0b053",
   "metadata": {
    "scrolled": true
   },
   "outputs": [
    {
     "name": "stdout",
     "output_type": "stream",
     "text": [
      "add(x1, x2, /, out=None, *, where=True, casting='same_kind', order='K', dtype=None, subok=True[, signature, extobj])\n",
      "\n",
      "Add arguments element-wise.\n",
      "\n",
      "Parameters\n",
      "----------\n",
      "x1, x2 : array_like\n",
      "    The arrays to be added.\n",
      "    If ``x1.shape != x2.shape``, they must be broadcastable to a common\n",
      "    shape (which becomes the shape of the output).\n",
      "out : ndarray, None, or tuple of ndarray and None, optional\n",
      "    A location into which the result is stored. If provided, it must have\n",
      "    a shape that the inputs broadcast to. If not provided or None,\n",
      "    a freshly-allocated array is returned. A tuple (possible only as a\n",
      "    keyword argument) must have length equal to the number of outputs.\n",
      "where : array_like, optional\n",
      "    This condition is broadcast over the input. At locations where the\n",
      "    condition is True, the `out` array will be set to the ufunc result.\n",
      "    Elsewhere, the `out` array will retain its original value.\n",
      "    Note that if an uninitialized `out` array is created via the default\n",
      "    ``out=None``, locations within it where the condition is False will\n",
      "    remain uninitialized.\n",
      "**kwargs\n",
      "    For other keyword-only arguments, see the\n",
      "    :ref:`ufunc docs <ufuncs.kwargs>`.\n",
      "\n",
      "Returns\n",
      "-------\n",
      "add : ndarray or scalar\n",
      "    The sum of `x1` and `x2`, element-wise.\n",
      "    This is a scalar if both `x1` and `x2` are scalars.\n",
      "\n",
      "Notes\n",
      "-----\n",
      "Equivalent to `x1` + `x2` in terms of array broadcasting.\n",
      "\n",
      "Examples\n",
      "--------\n",
      ">>> np.add(1.0, 4.0)\n",
      "5.0\n",
      ">>> x1 = np.arange(9.0).reshape((3, 3))\n",
      ">>> x2 = np.arange(3.0)\n",
      ">>> np.add(x1, x2)\n",
      "array([[  0.,   2.,   4.],\n",
      "       [  3.,   5.,   7.],\n",
      "       [  6.,   8.,  10.]])\n",
      "\n",
      "The ``+`` operator can be used as a shorthand for ``np.add`` on ndarrays.\n",
      "\n",
      ">>> x1 = np.arange(9.0).reshape((3, 3))\n",
      ">>> x2 = np.arange(3.0)\n",
      ">>> x1 + x2\n",
      "array([[ 0.,  2.,  4.],\n",
      "       [ 3.,  5.,  7.],\n",
      "       [ 6.,  8., 10.]])\n"
     ]
    }
   ],
   "source": [
    "# Solution\n",
    "np.info(np.add)"
   ]
  },
  {
   "cell_type": "markdown",
   "id": "4616eaa3",
   "metadata": {},
   "source": [
    "### 3\\. Write a NumPy program to test whether none of the elements of a given array is zero."
   ]
  },
  {
   "cell_type": "code",
   "execution_count": 27,
   "id": "82887774",
   "metadata": {},
   "outputs": [
    {
     "name": "stdout",
     "output_type": "stream",
     "text": [
      "True\n",
      "False\n"
     ]
    }
   ],
   "source": [
    "a1 = np.array([1, 2, 3])\n",
    "a2 = np.array([5, 0, 7])\n",
    "\n",
    "def non_zero(arr):\n",
    "    return len(np.where(arr==0)[0]) == 0\n",
    "\n",
    "print(non_zero(a1))\n",
    "print(non_zero(a2))"
   ]
  },
  {
   "cell_type": "code",
   "execution_count": 28,
   "id": "e36d755b",
   "metadata": {},
   "outputs": [
    {
     "name": "stdout",
     "output_type": "stream",
     "text": [
      "True\n",
      "False\n"
     ]
    }
   ],
   "source": [
    "# Solution\n",
    "print(np.all(a1))\n",
    "print(np.all(a2))"
   ]
  },
  {
   "cell_type": "markdown",
   "id": "0eb44d62",
   "metadata": {},
   "source": [
    "### 4\\. Write a NumPy program to test whether any of the elements of a given array is non-zero."
   ]
  },
  {
   "cell_type": "code",
   "execution_count": 29,
   "id": "8bfb2242",
   "metadata": {},
   "outputs": [
    {
     "name": "stdout",
     "output_type": "stream",
     "text": [
      "False\n",
      "True\n"
     ]
    }
   ],
   "source": [
    "a3 = [0, 0, 0]\n",
    "a4 = [0, 1, 0]\n",
    "\n",
    "print(np.any(a3))\n",
    "print(np.any(a4))"
   ]
  },
  {
   "cell_type": "markdown",
   "id": "d1a6ffe0",
   "metadata": {},
   "source": [
    "### 5\\. Write a NumPy program to test a given array element-wise for finiteness (not infinity or not a Number)."
   ]
  },
  {
   "cell_type": "code",
   "execution_count": 30,
   "id": "c65abd8d",
   "metadata": {},
   "outputs": [
    {
     "name": "stdout",
     "output_type": "stream",
     "text": [
      "[ 10.   0. 990.  nan  inf -inf  inf]\n"
     ]
    },
    {
     "data": {
      "text/plain": [
       "array([ True,  True,  True, False, False, False, False])"
      ]
     },
     "execution_count": 30,
     "metadata": {},
     "output_type": "execute_result"
    }
   ],
   "source": [
    "a5 = np.array([10, 0, 990, np.nan, np.inf, np.NINF, np.Inf])\n",
    "print(a5)\n",
    "np.isfinite(a5)"
   ]
  },
  {
   "cell_type": "markdown",
   "id": "f9076961",
   "metadata": {},
   "source": [
    "### 6\\. Write a NumPy program to test element-wise for positive or negative infinity."
   ]
  },
  {
   "cell_type": "code",
   "execution_count": 31,
   "id": "ac772e8b",
   "metadata": {
    "scrolled": true
   },
   "outputs": [
    {
     "name": "stdout",
     "output_type": "stream",
     "text": [
      "[ 10.   0. 990.  nan  inf -inf  inf]\n"
     ]
    },
    {
     "data": {
      "text/plain": [
       "array([False, False, False, False,  True,  True,  True])"
      ]
     },
     "execution_count": 31,
     "metadata": {},
     "output_type": "execute_result"
    }
   ],
   "source": [
    "print(a5)\n",
    "np.isinf(a5)"
   ]
  },
  {
   "cell_type": "markdown",
   "id": "bf92f2f9",
   "metadata": {},
   "source": [
    "### 7\\. Write a NumPy program to test element-wise for NaN of a given array."
   ]
  },
  {
   "cell_type": "code",
   "execution_count": 32,
   "id": "e9429b42",
   "metadata": {
    "scrolled": true
   },
   "outputs": [
    {
     "name": "stdout",
     "output_type": "stream",
     "text": [
      "[ 10.   0. 990.  nan  inf -inf  inf]\n"
     ]
    },
    {
     "data": {
      "text/plain": [
       "array([False, False, False,  True, False, False, False])"
      ]
     },
     "execution_count": 32,
     "metadata": {},
     "output_type": "execute_result"
    }
   ],
   "source": [
    "print(a5)\n",
    "np.isnan(a5)"
   ]
  },
  {
   "cell_type": "markdown",
   "id": "2f65734a",
   "metadata": {},
   "source": [
    "### 8\\. Write a NumPy program to test element-wise for complex number, real number of a given array."
   ]
  },
  {
   "cell_type": "code",
   "execution_count": 33,
   "id": "527e6901",
   "metadata": {},
   "outputs": [
    {
     "name": "stdout",
     "output_type": "stream",
     "text": [
      "Check for complex number: [False False False False False  True  True]\n",
      "Check for real number: [ True  True  True  True  True False False]\n"
     ]
    }
   ],
   "source": [
    "a6 = np.array([100, 0, 10.13, 10/3, -0.65, 4+3j, 2j])\n",
    "print(\"Check for complex number:\", np.iscomplex(a6))\n",
    "print(\"Check for real number:\", np.isreal(a6))"
   ]
  },
  {
   "cell_type": "markdown",
   "id": "ebcd5945",
   "metadata": {},
   "source": [
    "### 9\\. Write a NumPy program to test whether two arrays are element-wise equal within a tolerance."
   ]
  },
  {
   "cell_type": "code",
   "execution_count": 34,
   "id": "e1cd526e",
   "metadata": {},
   "outputs": [
    {
     "name": "stdout",
     "output_type": "stream",
     "text": [
      "1: False\n",
      "2: True\n",
      "3: False\n",
      "4: False\n",
      "5: True\n"
     ]
    }
   ],
   "source": [
    "# np.allclose -> Returns True if two arrays are element-wise equal within a tolerance.\n",
    "print('1:', np.allclose([1e10, 1e-7], [1.00001e10, 1e-8]))\n",
    "print('2:', np.allclose([1e10, 1e-8], [1.00001e10, 1e-9]))\n",
    "print('3:', np.allclose([1e10, 1e-8], [1.0001e10, 1e-9]))\n",
    "print('4:', np.allclose([1.0, np.nan], [1.0, np.nan]))\n",
    "print('5:', np.allclose([1.0, np.nan], [1.0, np.nan], equal_nan=True))"
   ]
  },
  {
   "cell_type": "markdown",
   "id": "8ccd179a",
   "metadata": {},
   "source": [
    "### 10\\. Write a NumPy program to create an element-wise comparison (greater, greater_equal, less and less_equal) of two given arrays."
   ]
  },
  {
   "cell_type": "code",
   "execution_count": 35,
   "id": "87b7ca21",
   "metadata": {},
   "outputs": [
    {
     "name": "stdout",
     "output_type": "stream",
     "text": [
      "a7 = [1 3 5]\n",
      "a8 = [2 0 5]\n",
      "a7 > a8: [False  True False]\n",
      "a7 >= a8: [False  True  True]\n",
      "a7 < a8: [ True False False]\n",
      "a7 <= a8: [ True False  True]\n"
     ]
    }
   ],
   "source": [
    "a7 = np.array([1, 3, 5])\n",
    "a8 = np.array([2, 0, 5])\n",
    "\n",
    "print(\"a7 =\", a7)\n",
    "print(\"a8 =\", a8)\n",
    "print('a7 > a8:', np.greater(a7, a8))  # a7 > a8\n",
    "print('a7 >= a8:', np.greater_equal(a7, a8))  # a7 >= a8\n",
    "print('a7 < a8:', np.less(a7, a8))  # a7 < a8\n",
    "print('a7 <= a8:', np.less_equal(a7, a8))  # a7 <= a8"
   ]
  },
  {
   "cell_type": "markdown",
   "id": "7bfd80b4",
   "metadata": {},
   "source": [
    "### 11\\. Write a NumPy program to create an element-wise comparison (equal, equal within a tolerance) of two given arrays."
   ]
  },
  {
   "cell_type": "code",
   "execution_count": 36,
   "id": "ba195171",
   "metadata": {},
   "outputs": [
    {
     "name": "stdout",
     "output_type": "stream",
     "text": [
      "is equal: [ True  True False False]\n",
      "is equal within a tolerance: [ True  True  True  True]\n"
     ]
    }
   ],
   "source": [
    "a9 = np.array([2, 4, 6.00002, 8])\n",
    "a10 = np.array([2, 4, 6, 8.00001])\n",
    "print(\"is equal:\", np.equal(a9, a10))\n",
    "print(\"is equal within a tolerance:\", np.isclose(a9, a10))"
   ]
  },
  {
   "cell_type": "markdown",
   "id": "3561306e",
   "metadata": {},
   "source": [
    "### 12\\. Write a NumPy program to create an array with the values 1, 7, 13, 105 and determine the size of the memory occupied by the array."
   ]
  },
  {
   "cell_type": "code",
   "execution_count": 37,
   "id": "1e3feb53",
   "metadata": {},
   "outputs": [
    {
     "name": "stdout",
     "output_type": "stream",
     "text": [
      "size of the memory occupied by the array: 32 bytes\n"
     ]
    }
   ],
   "source": [
    "a11 = np.array([1, 7, 13, 105])\n",
    "print(\"size of the memory occupied by the array:\", a11.size * a11.itemsize, \"bytes\")"
   ]
  },
  {
   "cell_type": "markdown",
   "id": "40ea691f",
   "metadata": {},
   "source": [
    "### 13\\. Write a NumPy program to create an array of 10 zeros,10 ones, 10 fives."
   ]
  },
  {
   "cell_type": "code",
   "execution_count": 38,
   "id": "d021796b",
   "metadata": {},
   "outputs": [
    {
     "name": "stdout",
     "output_type": "stream",
     "text": [
      "[0. 0. 0. 0. 0. 0. 0. 0. 0. 0.]\n",
      "[1. 1. 1. 1. 1. 1. 1. 1. 1. 1.]\n",
      "[5 5 5 5 5 5 5 5 5 5]\n"
     ]
    }
   ],
   "source": [
    "print(np.zeros(10))\n",
    "print(np.ones(10))\n",
    "print(np.full(10, 5))"
   ]
  },
  {
   "cell_type": "markdown",
   "id": "0b64bfa9",
   "metadata": {},
   "source": [
    "### 14\\. Write a NumPy program to create an array of the integers from 30 to 70."
   ]
  },
  {
   "cell_type": "code",
   "execution_count": 39,
   "id": "ece62dc0",
   "metadata": {},
   "outputs": [
    {
     "data": {
      "text/plain": [
       "array([30, 31, 32, 33, 34, 35, 36, 37, 38, 39, 40, 41, 42, 43, 44, 45, 46,\n",
       "       47, 48, 49, 50, 51, 52, 53, 54, 55, 56, 57, 58, 59, 60, 61, 62, 63,\n",
       "       64, 65, 66, 67, 68, 69, 70])"
      ]
     },
     "execution_count": 39,
     "metadata": {},
     "output_type": "execute_result"
    }
   ],
   "source": [
    "np.arange(30, 71)"
   ]
  },
  {
   "cell_type": "markdown",
   "id": "fff2b9b1",
   "metadata": {},
   "source": [
    "### 15\\. Write a NumPy program to create an array of all the even integers from 30 to 70."
   ]
  },
  {
   "cell_type": "code",
   "execution_count": 40,
   "id": "f7e81dcd",
   "metadata": {},
   "outputs": [
    {
     "data": {
      "text/plain": [
       "array([30, 32, 34, 36, 38, 40, 42, 44, 46, 48, 50, 52, 54, 56, 58, 60, 62,\n",
       "       64, 66, 68, 70])"
      ]
     },
     "execution_count": 40,
     "metadata": {},
     "output_type": "execute_result"
    }
   ],
   "source": [
    "np.arange(30, 71, 2)"
   ]
  },
  {
   "cell_type": "markdown",
   "id": "7c0b46a0",
   "metadata": {},
   "source": [
    "### 16\\. Write a NumPy program to create a 3x3 identity matrix."
   ]
  },
  {
   "cell_type": "code",
   "execution_count": 41,
   "id": "e44cd431",
   "metadata": {},
   "outputs": [
    {
     "name": "stdout",
     "output_type": "stream",
     "text": [
      "[[1 0 0]\n",
      " [0 1 0]\n",
      " [0 0 1]]\n",
      "\n",
      "[[1 0 0]\n",
      " [0 1 0]\n",
      " [0 0 1]]\n"
     ]
    }
   ],
   "source": [
    "print(np.diag([1, 1, 1]))\n",
    "print()  # or\n",
    "print(np.diag([1] * 3))"
   ]
  },
  {
   "cell_type": "code",
   "execution_count": 42,
   "id": "557aaab6",
   "metadata": {},
   "outputs": [
    {
     "data": {
      "text/plain": [
       "array([[1., 0., 0.],\n",
       "       [0., 1., 0.],\n",
       "       [0., 0., 1.]])"
      ]
     },
     "execution_count": 42,
     "metadata": {},
     "output_type": "execute_result"
    }
   ],
   "source": [
    "# Solution\n",
    "np.identity(3)"
   ]
  },
  {
   "cell_type": "markdown",
   "id": "613e48ac",
   "metadata": {},
   "source": [
    "### 17\\. Write a NumPy program to generate a random number between 0 and 1."
   ]
  },
  {
   "cell_type": "code",
   "execution_count": 43,
   "id": "268f0dfb",
   "metadata": {
    "scrolled": false
   },
   "outputs": [
    {
     "data": {
      "text/plain": [
       "array([[0.85367581, 0.99487917],\n",
       "       [0.06582293, 0.95591745]])"
      ]
     },
     "execution_count": 43,
     "metadata": {},
     "output_type": "execute_result"
    }
   ],
   "source": [
    "np.random.rand(2, 2)"
   ]
  },
  {
   "cell_type": "code",
   "execution_count": 44,
   "id": "65a139b3",
   "metadata": {},
   "outputs": [
    {
     "data": {
      "text/plain": [
       "array([[0.20964671, 0.7790992 ],\n",
       "       [0.88578107, 0.24148771]])"
      ]
     },
     "execution_count": 44,
     "metadata": {},
     "output_type": "execute_result"
    }
   ],
   "source": [
    "np.random.random_sample((2, 2))"
   ]
  },
  {
   "cell_type": "code",
   "execution_count": 45,
   "id": "79d0e5bb",
   "metadata": {
    "scrolled": true
   },
   "outputs": [
    {
     "data": {
      "text/plain": [
       "array([[0.05630255, 0.72881526],\n",
       "       [0.11125677, 0.99354819]])"
      ]
     },
     "execution_count": 45,
     "metadata": {},
     "output_type": "execute_result"
    }
   ],
   "source": [
    "np.random.random((2, 2))  # alias for random_sample"
   ]
  },
  {
   "cell_type": "code",
   "execution_count": 46,
   "id": "53dfdb03",
   "metadata": {},
   "outputs": [
    {
     "data": {
      "text/plain": [
       "array([[0.7408176 , 0.13734969],\n",
       "       [0.58684555, 0.56521695]])"
      ]
     },
     "execution_count": 46,
     "metadata": {},
     "output_type": "execute_result"
    }
   ],
   "source": [
    "np.random.sample((2, 2))  # alias for random_sample"
   ]
  },
  {
   "cell_type": "markdown",
   "id": "79308bf7",
   "metadata": {},
   "source": [
    "### 18\\. Write a NumPy program to generate an array of 15 random numbers from a standard normal distribution."
   ]
  },
  {
   "cell_type": "code",
   "execution_count": 47,
   "id": "7b442842",
   "metadata": {},
   "outputs": [
    {
     "data": {
      "text/plain": [
       "array([[-0.51792653, -0.38381068,  2.02103734, -1.1256131 ],\n",
       "       [ 0.37689164, -0.63597425,  1.05202199,  0.71854608]])"
      ]
     },
     "execution_count": 47,
     "metadata": {},
     "output_type": "execute_result"
    }
   ],
   "source": [
    "np.random.normal(0, 1, (2, 4))"
   ]
  },
  {
   "cell_type": "markdown",
   "id": "61cf40bc",
   "metadata": {},
   "source": [
    "### 19\\. Write a NumPy program to create a vector with values ranging from 15 to 55 and print all values except the first and last."
   ]
  },
  {
   "cell_type": "code",
   "execution_count": 48,
   "id": "0f74fbb0",
   "metadata": {},
   "outputs": [
    {
     "name": "stdout",
     "output_type": "stream",
     "text": [
      "Original:\n",
      " [15 16 17 18 19 20 21 22 23 24 25 26 27 28 29 30 31 32 33 34 35 36 37 38\n",
      " 39 40 41 42 43 44 45 46 47 48 49 50 51 52 53 54 55]\n",
      "\n",
      "All values except first and last:\n",
      " [16 17 18 19 20 21 22 23 24 25 26 27 28 29 30 31 32 33 34 35 36 37 38 39\n",
      " 40 41 42 43 44 45 46 47 48 49 50 51 52 53 54]\n"
     ]
    }
   ],
   "source": [
    "vec = np.arange(15, 56)\n",
    "print(\"Original:\\n\", vec)\n",
    "print(\"\\nAll values except first and last:\\n\", vec[1:-1])"
   ]
  },
  {
   "cell_type": "markdown",
   "id": "9abfefa4",
   "metadata": {},
   "source": [
    "### 20\\. Write a NumPy program to create a 3X4 array using and iterate over it."
   ]
  },
  {
   "cell_type": "code",
   "execution_count": 49,
   "id": "0c4fb4b8",
   "metadata": {},
   "outputs": [
    {
     "name": "stdout",
     "output_type": "stream",
     "text": [
      "Original array:\n",
      " [[ 1  2  3  4]\n",
      " [ 5  6  7  8]\n",
      " [ 9 10 11 12]]\n",
      "\n",
      "All array elements:\n",
      "1 2 3 4 5 6 7 8 9 10 11 12 "
     ]
    }
   ],
   "source": [
    "a12 = np.arange(1, 13).reshape(3, 4)\n",
    "print(\"Original array:\\n\", a12)\n",
    "print(\"\\nAll array elements:\")\n",
    "\n",
    "for i in a12.flatten():\n",
    "    print(i, end=\" \")"
   ]
  },
  {
   "cell_type": "code",
   "execution_count": 50,
   "id": "6d2fe3f7",
   "metadata": {},
   "outputs": [
    {
     "name": "stdout",
     "output_type": "stream",
     "text": [
      "Original array:\n",
      " [[ 1  2  3  4]\n",
      " [ 5  6  7  8]\n",
      " [ 9 10 11 12]]\n",
      "\n",
      "Each element of the array:\n",
      "1 2 3 4 5 6 7 8 9 10 11 12 "
     ]
    }
   ],
   "source": [
    "# Solution\n",
    "a12 = np.arange(1, 13).reshape(3, 4)\n",
    "print(\"Original array:\\n\", a12)\n",
    "print(\"\\nEach element of the array:\")\n",
    "\n",
    "for i in np.nditer(a12):\n",
    "    print(i, end=\" \")"
   ]
  },
  {
   "cell_type": "markdown",
   "id": "9dd27879",
   "metadata": {},
   "source": [
    "### 21\\. Write a NumPy program to create a vector of length 10 with values evenly distributed between 5 and 50."
   ]
  },
  {
   "cell_type": "code",
   "execution_count": 51,
   "id": "f24693f6",
   "metadata": {},
   "outputs": [
    {
     "data": {
      "text/plain": [
       "array([ 5., 10., 15., 20., 25., 30., 35., 40., 45., 50.])"
      ]
     },
     "execution_count": 51,
     "metadata": {},
     "output_type": "execute_result"
    }
   ],
   "source": [
    "np.linspace(5, 50, 10)"
   ]
  },
  {
   "cell_type": "markdown",
   "id": "dfd4c145",
   "metadata": {},
   "source": [
    "### 22\\. Write a NumPy program to create a vector with values from 0 to 20 and change the sign of the numbers in the range from 9 to 15."
   ]
  },
  {
   "cell_type": "code",
   "execution_count": 53,
   "id": "b34b869d",
   "metadata": {},
   "outputs": [
    {
     "name": "stdout",
     "output_type": "stream",
     "text": [
      "Original array: [ 0  1  2  3  4  5  6  7  8  9 10 11 12 13 14 15 16 17 18 19 20]\n",
      "After changing signs of the array:\n",
      " [  0   1   2   3   4   5   6   7   8  -9 -10 -11 -12 -13 -14 -15  16  17\n",
      "  18  19  20]\n"
     ]
    }
   ],
   "source": [
    "a13 = np.arange(21)\n",
    "print(\"Original array:\", a13)\n",
    "\n",
    "a13[9:16] = np.negative(a13[9:16])\n",
    "print(\"After changing signs of the array:\\n\", a13)"
   ]
  },
  {
   "cell_type": "code",
   "execution_count": 54,
   "id": "31b69bac",
   "metadata": {},
   "outputs": [
    {
     "name": "stdout",
     "output_type": "stream",
     "text": [
      "Original vector: [ 0  1  2  3  4  5  6  7  8  9 10 11 12 13 14 15 16 17 18 19 20]\n",
      "After changing the sign of the numbers in the range from 9 to 15:\n",
      "[  0   1   2   3   4   5   6   7   8  -9 -10 -11 -12 -13 -14 -15  16  17\n",
      "  18  19  20]\n"
     ]
    }
   ],
   "source": [
    "# Solution\n",
    "x = np.arange(21)\n",
    "print(\"Original vector:\", x)\n",
    "print(\"After changing the sign of the numbers in the range from 9 to 15:\")\n",
    "x[(x >= 9) & (x <= 15)] *= -1\n",
    "print(x)"
   ]
  },
  {
   "cell_type": "markdown",
   "id": "12d0ed75",
   "metadata": {},
   "source": [
    "### 23\\. Write a NumPy program to create a vector of length 5 filled with arbitrary integers from 0 to 10."
   ]
  },
  {
   "cell_type": "code",
   "execution_count": 55,
   "id": "cc8cb471",
   "metadata": {},
   "outputs": [
    {
     "data": {
      "text/plain": [
       "array([7, 7, 8, 6, 3])"
      ]
     },
     "execution_count": 55,
     "metadata": {},
     "output_type": "execute_result"
    }
   ],
   "source": [
    "np.random.randint(0, 11, 5)"
   ]
  },
  {
   "cell_type": "markdown",
   "id": "54eae8ed",
   "metadata": {},
   "source": [
    "### 24\\. Write a NumPy program to multiply the values of two given vectors."
   ]
  },
  {
   "cell_type": "code",
   "execution_count": 56,
   "id": "d9c2dde9",
   "metadata": {},
   "outputs": [
    {
     "data": {
      "text/plain": [
       "array([ 2,  0, 18])"
      ]
     },
     "execution_count": 56,
     "metadata": {},
     "output_type": "execute_result"
    }
   ],
   "source": [
    "a14 = np.array([2, 4, 6])\n",
    "a15 = np.array([1, 0, 3])\n",
    "\n",
    "np.multiply(a14, a15)  # a14 * a15"
   ]
  },
  {
   "cell_type": "markdown",
   "id": "4bf97e84",
   "metadata": {},
   "source": [
    "### 25\\. Write a NumPy program to create a 3x4 matrix filled with values from 10 to 21."
   ]
  },
  {
   "cell_type": "code",
   "execution_count": 57,
   "id": "48e7e2aa",
   "metadata": {},
   "outputs": [
    {
     "data": {
      "text/plain": [
       "array([[10, 11, 12, 13],\n",
       "       [14, 15, 16, 17],\n",
       "       [18, 19, 20, 21]])"
      ]
     },
     "execution_count": 57,
     "metadata": {},
     "output_type": "execute_result"
    }
   ],
   "source": [
    "a16 = np.arange(10, 22).reshape(3, 4)\n",
    "a16"
   ]
  },
  {
   "cell_type": "markdown",
   "id": "1ee06973",
   "metadata": {},
   "source": [
    "### 26\\. Write a NumPy program to find the number of rows and columns of a given matrix."
   ]
  },
  {
   "cell_type": "code",
   "execution_count": 58,
   "id": "bd317dcd",
   "metadata": {},
   "outputs": [
    {
     "name": "stdout",
     "output_type": "stream",
     "text": [
      "Array:\n",
      " [[10 11 12 13]\n",
      " [14 15 16 17]\n",
      " [18 19 20 21]]\n",
      "\n",
      "Number of rows and columns of an array: (3, 4)\n"
     ]
    }
   ],
   "source": [
    "print(\"Array:\\n\", a16)\n",
    "print(\"\\nNumber of rows and columns of an array:\", a16.shape)"
   ]
  },
  {
   "cell_type": "markdown",
   "id": "1b4f8972",
   "metadata": {},
   "source": [
    "### 27\\. Write a NumPy program to create a 3x3 identity matrix, i.e. diagonal elements are 1, the rest are 0."
   ]
  },
  {
   "cell_type": "code",
   "execution_count": 59,
   "id": "8c8d9bb9",
   "metadata": {},
   "outputs": [
    {
     "data": {
      "text/plain": [
       "array([[1., 0., 0.],\n",
       "       [0., 1., 0.],\n",
       "       [0., 0., 1.]])"
      ]
     },
     "execution_count": 59,
     "metadata": {},
     "output_type": "execute_result"
    }
   ],
   "source": [
    "np.eye(3)"
   ]
  },
  {
   "cell_type": "markdown",
   "id": "2b6820ac",
   "metadata": {},
   "source": [
    "### 28\\. Write a NumPy program to create a 10x10 matrix, in which the elements on the borders will be equal to 1, and inside 0."
   ]
  },
  {
   "cell_type": "code",
   "execution_count": 4,
   "id": "f4580773",
   "metadata": {},
   "outputs": [
    {
     "data": {
      "text/plain": [
       "array([[1., 1., 1., 1., 1., 1., 1., 1., 1., 1.],\n",
       "       [1., 0., 0., 0., 0., 0., 0., 0., 0., 1.],\n",
       "       [1., 0., 0., 0., 0., 0., 0., 0., 0., 1.],\n",
       "       [1., 0., 0., 0., 0., 0., 0., 0., 0., 1.],\n",
       "       [1., 0., 0., 0., 0., 0., 0., 0., 0., 1.],\n",
       "       [1., 0., 0., 0., 0., 0., 0., 0., 0., 1.],\n",
       "       [1., 0., 0., 0., 0., 0., 0., 0., 0., 1.],\n",
       "       [1., 0., 0., 0., 0., 0., 0., 0., 0., 1.],\n",
       "       [1., 0., 0., 0., 0., 0., 0., 0., 0., 1.],\n",
       "       [1., 1., 1., 1., 1., 1., 1., 1., 1., 1.]])"
      ]
     },
     "execution_count": 4,
     "metadata": {},
     "output_type": "execute_result"
    }
   ],
   "source": [
    "a17 = np.zeros((10, 10))\n",
    "a17[[0, -1], :] = 1\n",
    "a17[:, [0, -1]] = 1\n",
    "a17"
   ]
  },
  {
   "cell_type": "code",
   "execution_count": 61,
   "id": "60635321",
   "metadata": {},
   "outputs": [
    {
     "data": {
      "text/plain": [
       "array([[1., 1., 1., 1., 1., 1., 1., 1., 1., 1.],\n",
       "       [1., 0., 0., 0., 0., 0., 0., 0., 0., 1.],\n",
       "       [1., 0., 0., 0., 0., 0., 0., 0., 0., 1.],\n",
       "       [1., 0., 0., 0., 0., 0., 0., 0., 0., 1.],\n",
       "       [1., 0., 0., 0., 0., 0., 0., 0., 0., 1.],\n",
       "       [1., 0., 0., 0., 0., 0., 0., 0., 0., 1.],\n",
       "       [1., 0., 0., 0., 0., 0., 0., 0., 0., 1.],\n",
       "       [1., 0., 0., 0., 0., 0., 0., 0., 0., 1.],\n",
       "       [1., 0., 0., 0., 0., 0., 0., 0., 0., 1.],\n",
       "       [1., 1., 1., 1., 1., 1., 1., 1., 1., 1.]])"
      ]
     },
     "execution_count": 61,
     "metadata": {},
     "output_type": "execute_result"
    }
   ],
   "source": [
    "# Solution\n",
    "a17 = np.ones((10, 10))\n",
    "a17[1:-1, 1:-1] = 0\n",
    "a17"
   ]
  },
  {
   "cell_type": "markdown",
   "id": "75f0cb3c",
   "metadata": {},
   "source": [
    "### 29\\. Write a NumPy program to create a 5x5 zero matrix with elements on the main diagonal equal to 1, 2, 3, 4, 5."
   ]
  },
  {
   "cell_type": "code",
   "execution_count": 62,
   "id": "c568934d",
   "metadata": {},
   "outputs": [
    {
     "data": {
      "text/plain": [
       "array([[1, 0, 0, 0, 0],\n",
       "       [0, 2, 0, 0, 0],\n",
       "       [0, 0, 3, 0, 0],\n",
       "       [0, 0, 0, 4, 0],\n",
       "       [0, 0, 0, 0, 5]])"
      ]
     },
     "execution_count": 62,
     "metadata": {},
     "output_type": "execute_result"
    }
   ],
   "source": [
    "np.diag(range(1, 6))"
   ]
  },
  {
   "cell_type": "markdown",
   "id": "d0bd0857",
   "metadata": {},
   "source": [
    "### 30\\. Write a NumPy program to create a 4x4 matrix in which 0 and 1 are staggered, with zeros on the main diagonal."
   ]
  },
  {
   "cell_type": "code",
   "execution_count": 63,
   "id": "649a5f66",
   "metadata": {},
   "outputs": [
    {
     "data": {
      "text/plain": [
       "array([[0, 1, 0, 1],\n",
       "       [1, 0, 1, 0],\n",
       "       [0, 1, 0, 1],\n",
       "       [1, 0, 1, 0]], dtype=int8)"
      ]
     },
     "execution_count": 63,
     "metadata": {},
     "output_type": "execute_result"
    }
   ],
   "source": [
    "a18 = np.ones((4, 4), dtype=np.int8)\n",
    "a18[::2, ::2] = 0\n",
    "a18[1::2, 1::2] = 0\n",
    "a18"
   ]
  },
  {
   "cell_type": "markdown",
   "id": "23669394",
   "metadata": {},
   "source": [
    "### 31\\. Write a NumPy program to create a 3x3x3 array filled with arbitrary values."
   ]
  },
  {
   "cell_type": "code",
   "execution_count": 64,
   "id": "950c1760",
   "metadata": {},
   "outputs": [
    {
     "data": {
      "text/plain": [
       "array([[[0.41358332, 0.95227495, 0.57102193],\n",
       "        [0.34502923, 0.98509585, 0.57934803],\n",
       "        [0.56402608, 0.28900865, 0.31016101]],\n",
       "\n",
       "       [[0.94535155, 0.49701095, 0.16780384],\n",
       "        [0.46765126, 0.08330966, 0.49554552],\n",
       "        [0.30970394, 0.16593549, 0.45990851]],\n",
       "\n",
       "       [[0.93956203, 0.52337799, 0.58083095],\n",
       "        [0.94427665, 0.76321317, 0.2149038 ],\n",
       "        [0.92586031, 0.77056033, 0.34790169]]])"
      ]
     },
     "execution_count": 64,
     "metadata": {},
     "output_type": "execute_result"
    }
   ],
   "source": [
    "np.random.rand(3, 3, 3)"
   ]
  },
  {
   "cell_type": "markdown",
   "id": "3b74f433",
   "metadata": {},
   "source": [
    "### 32\\. Write a NumPy program to compute sum of all elements, sum of each column and sum of each row of a given array."
   ]
  },
  {
   "cell_type": "code",
   "execution_count": 65,
   "id": "2ca186f3",
   "metadata": {},
   "outputs": [
    {
     "name": "stdout",
     "output_type": "stream",
     "text": [
      "Array:\n",
      " [[ 1  2  3  4  5]\n",
      " [ 6  7  8  9 10]\n",
      " [11 12 13 14 15]\n",
      " [16 17 18 19 20]]\n",
      "\n",
      "Sum of all elements: 210\n",
      "Sum of each column: [34 38 42 46 50]\n",
      "Sum of each row: [15 40 65 90]\n"
     ]
    }
   ],
   "source": [
    "a19 = np.arange(1, 21).reshape(4, 5)\n",
    "print(\"Array:\\n\", a19)\n",
    "\n",
    "print(\"\\nSum of all elements:\", a19.sum())\n",
    "print(\"Sum of each column:\", a19.sum(axis=0))\n",
    "print(\"Sum of each row:\", a19.sum(axis=1))"
   ]
  },
  {
   "cell_type": "markdown",
   "id": "99bc3d60",
   "metadata": {
    "hide_input": true
   },
   "source": [
    "### 33\\. Write a NumPy program to compute the inner product of two given vectors."
   ]
  },
  {
   "cell_type": "code",
   "execution_count": 66,
   "id": "44b19313",
   "metadata": {
    "hide_input": false
   },
   "outputs": [
    {
     "name": "stdout",
     "output_type": "stream",
     "text": [
      "1-vector:\n",
      " [[2 4]\n",
      " [6 8]]\n",
      "2-vector:\n",
      " [[ 1  3  5]\n",
      " [ 7  9 11]]\n",
      "\n",
      "Inner product of two vectors:\n",
      " [[ 30  42  54]\n",
      " [ 62  90 118]]\n"
     ]
    }
   ],
   "source": [
    "a20 = np.array([[2, 4],\n",
    "                [6, 8]])\n",
    "\n",
    "a21 = np.array([[1, 3, 5],\n",
    "                [7, 9, 11]])\n",
    "\n",
    "print(\"1-vector:\\n\", a20)\n",
    "print(\"2-vector:\\n\", a21)\n",
    "\n",
    "print(\"\\nInner product of two vectors:\\n\", np.dot(a20, a21))"
   ]
  },
  {
   "cell_type": "markdown",
   "id": "64944dd2",
   "metadata": {},
   "source": [
    "### 34\\. Write a NumPy program to add a vector to each row of a given matrix."
   ]
  },
  {
   "cell_type": "code",
   "execution_count": 67,
   "id": "ff52203b",
   "metadata": {},
   "outputs": [
    {
     "name": "stdout",
     "output_type": "stream",
     "text": [
      "Vector: [1 2 0]\n",
      "\n",
      "Matrix:\n",
      " [[ 1  2  3]\n",
      " [ 4  5  6]\n",
      " [ 7  8  9]\n",
      " [10 11 12]]\n",
      "\n",
      "After adding the vector v to each row of the matrix m:\n",
      " [[ 2  4  3]\n",
      " [ 5  7  6]\n",
      " [ 8 10  9]\n",
      " [11 13 12]]\n"
     ]
    }
   ],
   "source": [
    "v = np.array([1, 2, 0])\n",
    "m = np.arange(1, 13).reshape(4, 3)\n",
    "print(\"Vector:\", v)\n",
    "print(\"\\nMatrix:\\n\", m)\n",
    "\n",
    "for idx in range(len(m)):\n",
    "    m[idx] += v\n",
    "\n",
    "print(\"\\nAfter adding the vector v to each row of the matrix m:\\n\", m)"
   ]
  },
  {
   "cell_type": "markdown",
   "id": "55e67ffe",
   "metadata": {},
   "source": [
    "### 35\\. Write a NumPy program to save a given array to a binary file ."
   ]
  },
  {
   "cell_type": "code",
   "execution_count": 68,
   "id": "4ed5dfc6",
   "metadata": {},
   "outputs": [
    {
     "name": "stdout",
     "output_type": "stream",
     "text": [
      "Array:\n",
      " [[ 1  3  5]\n",
      " [ 7  9 11]]\n"
     ]
    }
   ],
   "source": [
    "print(\"Array:\\n\", a21)\n",
    "# Save an array to a binary file in NumPy .npy format.\n",
    "np.save(\"array_file\", a21)"
   ]
  },
  {
   "cell_type": "code",
   "execution_count": 69,
   "id": "4d8f1c39",
   "metadata": {},
   "outputs": [
    {
     "data": {
      "text/plain": [
       "array([[ 1,  3,  5],\n",
       "       [ 7,  9, 11]])"
      ]
     },
     "execution_count": 69,
     "metadata": {},
     "output_type": "execute_result"
    }
   ],
   "source": [
    "# Load arrays or pickled objects from .npy, .npz or pickled files.\n",
    "np.load(\"array_file.npy\")"
   ]
  },
  {
   "cell_type": "markdown",
   "id": "2d629f83",
   "metadata": {},
   "source": [
    "### 36\\. Write a NumPy program to save two given arrays into a single file in compressed format (.npz format) and load it."
   ]
  },
  {
   "cell_type": "code",
   "execution_count": 70,
   "id": "396cab6e",
   "metadata": {
    "scrolled": false
   },
   "outputs": [
    {
     "name": "stdout",
     "output_type": "stream",
     "text": [
      "1-array:\n",
      " [[ 1  3  5]\n",
      " [ 7  9 11]]\n",
      "\n",
      "2-array:\n",
      " [[  1   2   3   4   5   6   7   8   9  10]\n",
      " [ 11  12  13  14  15  16  17  18  19  20]\n",
      " [ 21  22  23  24  25  26  27  28  29  30]\n",
      " [ 31  32  33  34  35  36  37  38  39  40]\n",
      " [ 41  42  43  44  45  46  47  48  49  50]\n",
      " [ 51  52  53  54  55  56  57  58  59  60]\n",
      " [ 61  62  63  64  65  66  67  68  69  70]\n",
      " [ 71  72  73  74  75  76  77  78  79  80]\n",
      " [ 81  82  83  84  85  86  87  88  89  90]\n",
      " [ 91  92  93  94  95  96  97  98  99 100]]\n"
     ]
    }
   ],
   "source": [
    "a22 = np.arange(1, 101).reshape(10, 10)\n",
    "print(\"1-array:\\n\", a21)\n",
    "print(\"\\n2-array:\\n\", a22)\n",
    "\n",
    "# Save several arrays into a single file in compressed .npz format.\n",
    "np.savez_compressed(\"my_arrays\", arr1=a21, arr2=a22)"
   ]
  },
  {
   "cell_type": "code",
   "execution_count": 71,
   "id": "fc439b48",
   "metadata": {},
   "outputs": [
    {
     "data": {
      "text/plain": [
       "['arr1', 'arr2']"
      ]
     },
     "execution_count": 71,
     "metadata": {},
     "output_type": "execute_result"
    }
   ],
   "source": [
    "data = np.load(\"my_arrays.npz\")\n",
    "data.files"
   ]
  },
  {
   "cell_type": "code",
   "execution_count": 72,
   "id": "9b9ca7dd",
   "metadata": {},
   "outputs": [
    {
     "data": {
      "text/plain": [
       "array([[ 1,  3,  5],\n",
       "       [ 7,  9, 11]])"
      ]
     },
     "execution_count": 72,
     "metadata": {},
     "output_type": "execute_result"
    }
   ],
   "source": [
    "data['arr1']"
   ]
  },
  {
   "cell_type": "code",
   "execution_count": 73,
   "id": "b4905ac1",
   "metadata": {},
   "outputs": [
    {
     "data": {
      "text/plain": [
       "array([[  1,   2,   3,   4,   5,   6,   7,   8,   9,  10],\n",
       "       [ 11,  12,  13,  14,  15,  16,  17,  18,  19,  20],\n",
       "       [ 21,  22,  23,  24,  25,  26,  27,  28,  29,  30],\n",
       "       [ 31,  32,  33,  34,  35,  36,  37,  38,  39,  40],\n",
       "       [ 41,  42,  43,  44,  45,  46,  47,  48,  49,  50],\n",
       "       [ 51,  52,  53,  54,  55,  56,  57,  58,  59,  60],\n",
       "       [ 61,  62,  63,  64,  65,  66,  67,  68,  69,  70],\n",
       "       [ 71,  72,  73,  74,  75,  76,  77,  78,  79,  80],\n",
       "       [ 81,  82,  83,  84,  85,  86,  87,  88,  89,  90],\n",
       "       [ 91,  92,  93,  94,  95,  96,  97,  98,  99, 100]])"
      ]
     },
     "execution_count": 73,
     "metadata": {},
     "output_type": "execute_result"
    }
   ],
   "source": [
    "data['arr2']"
   ]
  },
  {
   "cell_type": "code",
   "execution_count": 74,
   "id": "93497214",
   "metadata": {},
   "outputs": [],
   "source": [
    "data.close()"
   ]
  },
  {
   "cell_type": "markdown",
   "id": "bc62f412",
   "metadata": {},
   "source": [
    "### 37\\. Write a NumPy program to save a given array to a text file and load it."
   ]
  },
  {
   "cell_type": "code",
   "execution_count": 75,
   "id": "2f7bdc7a",
   "metadata": {
    "scrolled": false
   },
   "outputs": [
    {
     "name": "stdout",
     "output_type": "stream",
     "text": [
      "Array:\n",
      " [[  1   2   3   4   5   6   7   8   9  10]\n",
      " [ 11  12  13  14  15  16  17  18  19  20]\n",
      " [ 21  22  23  24  25  26  27  28  29  30]\n",
      " [ 31  32  33  34  35  36  37  38  39  40]\n",
      " [ 41  42  43  44  45  46  47  48  49  50]\n",
      " [ 51  52  53  54  55  56  57  58  59  60]\n",
      " [ 61  62  63  64  65  66  67  68  69  70]\n",
      " [ 71  72  73  74  75  76  77  78  79  80]\n",
      " [ 81  82  83  84  85  86  87  88  89  90]\n",
      " [ 91  92  93  94  95  96  97  98  99 100]]\n"
     ]
    }
   ],
   "source": [
    "print('Array:\\n', a22)\n",
    "# Save an array to a text file.\n",
    "np.savetxt(\"array_text.txt\", a22, fmt=\"%d\")"
   ]
  },
  {
   "cell_type": "code",
   "execution_count": 76,
   "id": "64ccedd7",
   "metadata": {},
   "outputs": [
    {
     "data": {
      "text/plain": [
       "array([[  1.,   2.,   3.,   4.,   5.,   6.,   7.,   8.,   9.,  10.],\n",
       "       [ 11.,  12.,  13.,  14.,  15.,  16.,  17.,  18.,  19.,  20.],\n",
       "       [ 21.,  22.,  23.,  24.,  25.,  26.,  27.,  28.,  29.,  30.],\n",
       "       [ 31.,  32.,  33.,  34.,  35.,  36.,  37.,  38.,  39.,  40.],\n",
       "       [ 41.,  42.,  43.,  44.,  45.,  46.,  47.,  48.,  49.,  50.],\n",
       "       [ 51.,  52.,  53.,  54.,  55.,  56.,  57.,  58.,  59.,  60.],\n",
       "       [ 61.,  62.,  63.,  64.,  65.,  66.,  67.,  68.,  69.,  70.],\n",
       "       [ 71.,  72.,  73.,  74.,  75.,  76.,  77.,  78.,  79.,  80.],\n",
       "       [ 81.,  82.,  83.,  84.,  85.,  86.,  87.,  88.,  89.,  90.],\n",
       "       [ 91.,  92.,  93.,  94.,  95.,  96.,  97.,  98.,  99., 100.]])"
      ]
     },
     "execution_count": 76,
     "metadata": {},
     "output_type": "execute_result"
    }
   ],
   "source": [
    "# Load data from a text file.\n",
    "np.loadtxt(\"array_text.txt\")"
   ]
  },
  {
   "cell_type": "markdown",
   "id": "2784cbed",
   "metadata": {},
   "source": [
    "### 38\\. Write a NumPy program to convert a given array into bytes, and load it as array."
   ]
  },
  {
   "cell_type": "code",
   "execution_count": 82,
   "id": "daf8589c",
   "metadata": {},
   "outputs": [],
   "source": [
    "a23 = np.array([2, 5, 7, 8])\n",
    "a23_bytes = a23.tobytes()"
   ]
  },
  {
   "cell_type": "code",
   "execution_count": 94,
   "id": "6b38c212",
   "metadata": {
    "scrolled": true
   },
   "outputs": [
    {
     "name": "stdout",
     "output_type": "stream",
     "text": [
      "b'\\x02\\x00\\x00\\x00\\x00\\x00\\x00\\x00\\x05\\x00\\x00\\x00\\x00\\x00\\x00\\x00\\x07\\x00\\x00\\x00\\x00\\x00\\x00\\x00\\x08\\x00\\x00\\x00\\x00\\x00\\x00\\x00'\n",
      "\n",
      "<class 'bytes'>\n"
     ]
    }
   ],
   "source": [
    "print(a23_bytes)\n",
    "print()\n",
    "print(type(a23_bytes))"
   ]
  },
  {
   "cell_type": "code",
   "execution_count": 88,
   "id": "cfae0a06",
   "metadata": {
    "scrolled": true
   },
   "outputs": [
    {
     "data": {
      "text/plain": [
       "array([2, 5, 7, 8])"
      ]
     },
     "execution_count": 88,
     "metadata": {},
     "output_type": "execute_result"
    }
   ],
   "source": [
    "np.frombuffer(a23_bytes, dtype=a23.dtype)"
   ]
  },
  {
   "cell_type": "markdown",
   "id": "70635779",
   "metadata": {},
   "source": [
    "### 39\\. Write a NumPy program to convert a given list into an array, then again convert it into a list. Check initial list and final list are equal or not."
   ]
  },
  {
   "cell_type": "code",
   "execution_count": 103,
   "id": "da2a287a",
   "metadata": {},
   "outputs": [
    {
     "name": "stdout",
     "output_type": "stream",
     "text": [
      "list: [1, 1, 2, 3, 5, 8, 13]\n",
      "data type of list: <class 'list'>\n",
      "\n",
      "list converted to array: [ 1  1  2  3  5  8 13]\n",
      "data type of array: <class 'numpy.ndarray'>\n",
      "\n",
      "array converted to list: [1, 1, 2, 3, 5, 8, 13]\n",
      "Is initial list and final list are equal: True\n"
     ]
    }
   ],
   "source": [
    "list1 = [1, 1, 2, 3, 5, 8, 13]\n",
    "print('list:', list1)\n",
    "print('data type of list:', type(list1))\n",
    "\n",
    "arr = np.array(list1)\n",
    "print('\\nlist converted to array:', arr)\n",
    "print('data type of array:', type(arr))\n",
    "\n",
    "list2 = list(arr)\n",
    "print('\\narray converted to list:', list2)\n",
    "print('Is initial list and final list are equal:', list1==list2)"
   ]
  },
  {
   "cell_type": "markdown",
   "id": "2766dab5",
   "metadata": {},
   "source": [
    "### 40\\. Write a NumPy program to compute the x and y coordinates for points on a sine curve and plot the points using matplotlib."
   ]
  },
  {
   "cell_type": "code",
   "execution_count": 2,
   "id": "510c24cc",
   "metadata": {},
   "outputs": [
    {
     "data": {
      "image/png": "[encoded data removed]",
      "text/plain": [
       "<Figure size 600x300 with 1 Axes>"
      ]
     },
     "metadata": {},
     "output_type": "display_data"
    }
   ],
   "source": [
    "x = np.arange(0, 4 * np.pi, 0.1)\n",
    "y = np.sin(x)\n",
    "\n",
    "import matplotlib.pyplot as plt\n",
    "plt.figure(figsize=(6, 3))\n",
    "plt.plot(x, y, linestyle=\":\", linewidth=2, color='red')\n",
    "plt.show()"
   ]
  },
  {
   "cell_type": "markdown",
   "id": "45008b43",
   "metadata": {},
   "source": [
    "### 41\\. Write a NumPy program to convert numpy dtypes to native python types."
   ]
  },
  {
   "cell_type": "code",
   "execution_count": 7,
   "id": "9273188f",
   "metadata": {
    "scrolled": false
   },
   "outputs": [
    {
     "name": "stdout",
     "output_type": "stream",
     "text": [
      "Numpy array: [1 2 3]\n",
      "<class 'numpy.ndarray'>\n",
      "\n",
      "Python list: [1, 2, 3]\n",
      "<class 'list'>\n"
     ]
    }
   ],
   "source": [
    "arr = np.array([1, 2, 3])\n",
    "print(\"Numpy array:\", arr)\n",
    "print(type(arr))\n",
    "\n",
    "# val = arr.item()\n",
    "list1 = arr.tolist()\n",
    "print(\"\\nPython list:\", list1)\n",
    "print(type(list1))"
   ]
  },
  {
   "cell_type": "markdown",
   "id": "be8e99e0",
   "metadata": {},
   "source": [
    "### 42\\. Write a NumPy program to add elements in a matrix. If an element in the matrix is 0, we will not add the element below this element."
   ]
  },
  {
   "cell_type": "code",
   "execution_count": 2,
   "id": "5d62216c",
   "metadata": {},
   "outputs": [
    {
     "name": "stdout",
     "output_type": "stream",
     "text": [
      "Matrix:\n",
      " [[ 8 28 21]\n",
      " [ 7 27  0]\n",
      " [ 9 24 28]]\n",
      "\n",
      "Sum of elements in matrix above 0 is: 91\n"
     ]
    }
   ],
   "source": [
    "m = np.array([[ 8, 28, 21], [ 7, 27,  0], [ 9, 24, 28]])\n",
    "S = 0\n",
    "for i in np.nditer(m):\n",
    "    if i==0:\n",
    "        break\n",
    "    S += i\n",
    "\n",
    "print(\"Matrix:\\n\", m)\n",
    "print(\"\\nSum of elements in matrix above 0 is:\", S)"
   ]
  },
  {
   "cell_type": "code",
   "execution_count": 8,
   "id": "f79502b2",
   "metadata": {},
   "outputs": [
    {
     "name": "stdout",
     "output_type": "stream",
     "text": [
      "Original matrix:\n",
      "[[1, 1, 0, 2], [0, 3, 0, 3], [1, 0, 4, 4]]\n",
      "Sum:\n",
      "14\n"
     ]
    }
   ],
   "source": [
    "# Solution\n",
    "def sum_matrix_Elements(m):\n",
    "    arra = np.array(m)   \n",
    "    element_sum = 0  \n",
    "    for p in range(len(arra)):  \n",
    "        for q in range(len(arra[p])):  \n",
    "            if arra[p][q] == 0 and p < len(arra)-1: \n",
    "                arra[p+1][q] = 0  \n",
    "            element_sum += arra[p][q]  \n",
    "    return element_sum\n",
    "\n",
    "m = [[1, 1, 0, 2],\n",
    "     [0, 3, 0, 3],\n",
    "     [1, 0, 4, 4]]\n",
    "\n",
    "print(\"Original matrix:\")\n",
    "print(m)\n",
    "print(\"Sum:\")\n",
    "print(sum_matrix_Elements(m))"
   ]
  },
  {
   "cell_type": "markdown",
   "id": "b9dae3ca",
   "metadata": {},
   "source": [
    "### 43\\. Write a NumPy program to find the missing data in a given array."
   ]
  },
  {
   "cell_type": "code",
   "execution_count": 12,
   "id": "e1f74a70",
   "metadata": {},
   "outputs": [
    {
     "name": "stdout",
     "output_type": "stream",
     "text": [
      "Array: [ 1.  2.  3. nan  5.  6. nan  8.  9. 10.]\n",
      "Count missing data in array: 2\n"
     ]
    }
   ],
   "source": [
    "arr = np.array([1, 2, 3, np.nan, 5, 6, np.nan, 8, 9, 10])\n",
    "print(\"Array:\", arr)\n",
    "print(\"Count missing data in array:\", np.isnan(arr).sum())"
   ]
  },
  {
   "cell_type": "markdown",
   "id": "701ee8ec",
   "metadata": {},
   "source": [
    "### 44\\. Write a NumPy program to check whether two arrays are equal (element wise) or not."
   ]
  },
  {
   "cell_type": "code",
   "execution_count": 18,
   "id": "cda915b2",
   "metadata": {},
   "outputs": [
    {
     "data": {
      "text/plain": [
       "array([False,  True, False, False,  True, False, False, False,  True])"
      ]
     },
     "execution_count": 18,
     "metadata": {},
     "output_type": "execute_result"
    }
   ],
   "source": [
    "arr1 = np.array([1, 2, 3, 4, 5, 6, 7, 8, 9])\n",
    "arr2 = np.array([0.99999999, 2, 4.00000, 5, 5, 7, 8, 8.0000001, 9])\n",
    "\n",
    "np.equal(arr1, arr2)  # Return (x1 == x2) element-wise."
   ]
  },
  {
   "cell_type": "markdown",
   "id": "10b41c42",
   "metadata": {},
   "source": [
    "###  45\\. Write a NumPy program to create one-dimensional array of single, two and three digit numbers."
   ]
  },
  {
   "cell_type": "code",
   "execution_count": 2,
   "id": "31ebff19",
   "metadata": {},
   "outputs": [
    {
     "name": "stdout",
     "output_type": "stream",
     "text": [
      "1d array of single digit numbers: [ 1  2  3  4  5  6  7  8  9 10]\n",
      "1d array of two digit numbers: [10 11 12 13 14 15 16 17 18 19 20]\n",
      "1d array of three digit numbers: [101 102 103 104 105 106 107 108 109 110]\n"
     ]
    }
   ],
   "source": [
    "arr1d = np.arange(1, 11)\n",
    "print(\"1d array of single digit numbers:\", arr1d)\n",
    "\n",
    "arr2d = np.arange(10, 21)\n",
    "print(\"1d array of two digit numbers:\", arr2d)\n",
    "\n",
    "arr3d = np.arange(101, 111)\n",
    "print(\"1d array of three digit numbers:\", arr3d)"
   ]
  },
  {
   "cell_type": "markdown",
   "id": "0d674e17",
   "metadata": {},
   "source": [
    "### 46\\. Write a NumPy program to create a two-dimensional array of specified format."
   ]
  },
  {
   "cell_type": "code",
   "execution_count": 31,
   "id": "13641f4f",
   "metadata": {},
   "outputs": [
    {
     "data": {
      "text/plain": [
       "array([[ 1,  2,  3,  4],\n",
       "       [ 5,  6,  7,  8],\n",
       "       [ 9, 10, 11, 12]])"
      ]
     },
     "execution_count": 31,
     "metadata": {},
     "output_type": "execute_result"
    }
   ],
   "source": [
    "np.arange(1, 13).reshape(3, 4)"
   ]
  },
  {
   "cell_type": "markdown",
   "id": "f079f605",
   "metadata": {},
   "source": [
    "### 47\\. Write a NumPy program to create a one dimensional array of forty pseudo-randomly generated values. Select random numbers from a uniform distribution between 0 and 1."
   ]
  },
  {
   "cell_type": "code",
   "execution_count": 101,
   "id": "cf526e04",
   "metadata": {},
   "outputs": [
    {
     "data": {
      "text/plain": [
       "array([0.68235717, 0.8780563 , 0.79671726, 0.43200225, 0.91787822,\n",
       "       0.78183368, 0.72575028, 0.12485469, 0.91630845, 0.38771099,\n",
       "       0.29492955, 0.61673141, 0.46784623, 0.25533891, 0.83899589,\n",
       "       0.1786192 , 0.22711417, 0.65987645, 0.47911625, 0.07344734,\n",
       "       0.13896007, 0.11230718, 0.47778497, 0.54029623, 0.95807105,\n",
       "       0.58379231, 0.52666409, 0.92226269, 0.91925702, 0.25200886,\n",
       "       0.68263261, 0.96427612, 0.22696165, 0.7160172 , 0.79776011,\n",
       "       0.9367512 , 0.8537225 , 0.42154581, 0.00543987, 0.03486533])"
      ]
     },
     "execution_count": 101,
     "metadata": {},
     "output_type": "execute_result"
    }
   ],
   "source": [
    "np.random.rand(40)"
   ]
  },
  {
   "cell_type": "markdown",
   "id": "5ae68ae1",
   "metadata": {},
   "source": [
    "### 48\\. Write a NumPy program to create a two-dimensional array with shape (8,5) of random numbers. Select random numbers from a normal distribution (200,7)."
   ]
  },
  {
   "cell_type": "code",
   "execution_count": 102,
   "id": "9ffa6811",
   "metadata": {},
   "outputs": [
    {
     "data": {
      "text/plain": [
       "array([[200.27305523, 198.50713319, 193.7633177 , 198.10547563,\n",
       "        201.55570603],\n",
       "       [201.76269518, 204.95548261, 203.45792882, 210.29701168,\n",
       "        195.92166372],\n",
       "       [214.46073645, 207.61483721, 205.63632328, 188.88480612,\n",
       "        208.6161985 ],\n",
       "       [183.38582635, 199.78222321, 173.33076736, 198.60665216,\n",
       "        202.4530152 ],\n",
       "       [199.63214451, 195.56003242, 197.45948226, 182.00356167,\n",
       "        200.96260318],\n",
       "       [194.96492669, 205.0996602 , 211.3522184 , 210.65163575,\n",
       "        190.85258599],\n",
       "       [193.77162188, 200.03687419, 206.06497409, 196.25125094,\n",
       "        198.19295758],\n",
       "       [200.33009311, 197.01054396, 199.15136924, 198.81997818,\n",
       "        198.62870748]])"
      ]
     },
     "execution_count": 102,
     "metadata": {},
     "output_type": "execute_result"
    }
   ],
   "source": [
    "np.random.normal(200, 7, size=(8, 5))"
   ]
  },
  {
   "cell_type": "markdown",
   "id": "2035943e",
   "metadata": {},
   "source": [
    "### 49\\. Write a NumPy program to generate a uniform, non-uniform random sample from a given 1-D array with and without replacement."
   ]
  },
  {
   "cell_type": "code",
   "execution_count": 58,
   "id": "7e280b6e",
   "metadata": {},
   "outputs": [
    {
     "name": "stdout",
     "output_type": "stream",
     "text": [
      "Random sample with replacement:\n",
      "[6 9 1 1 5]\n",
      "Random sample without replacement:\n",
      "[5 2 1 3 4]\n"
     ]
    }
   ],
   "source": [
    "print(\"Random sample with replacement:\") \n",
    "print(np.random.choice(10, 5))\n",
    "print(\"Random sample without replacement:\")\n",
    "print(np.random.choice(10, 5, replace=False))"
   ]
  },
  {
   "cell_type": "markdown",
   "id": "d7f84fa7",
   "metadata": {},
   "source": [
    "### 50. Write a NumPy program to create a 4x4 array with random values, now create a new array from the said array swapping first and last rows."
   ]
  },
  {
   "cell_type": "code",
   "execution_count": 60,
   "id": "90ef9569",
   "metadata": {},
   "outputs": [
    {
     "name": "stdout",
     "output_type": "stream",
     "text": [
      "Array:\n",
      " [[ 7 15  2  9]\n",
      " [ 8 12  6 15]\n",
      " [ 5  2  1  4]\n",
      " [ 9  3  2 13]]\n",
      "\n",
      "Array after swapping first and last rows:\n",
      " [[ 9  3  2 13]\n",
      " [ 8 12  6 15]\n",
      " [ 5  2  1  4]\n",
      " [ 7 15  2  9]]\n"
     ]
    }
   ],
   "source": [
    "arr = np.random.randint(1, 17, size=(4, 4))\n",
    "print(\"Array:\\n\", arr)\n",
    "\n",
    "first_row = arr[0, :].copy()\n",
    "arr[0, :] = arr[-1, :]\n",
    "arr[-1, :] =  first_row\n",
    "print(\"\\nArray after swapping first and last rows:\\n\", arr)"
   ]
  },
  {
   "cell_type": "code",
   "execution_count": 109,
   "id": "e6d7c851",
   "metadata": {},
   "outputs": [
    {
     "name": "stdout",
     "output_type": "stream",
     "text": [
      "Original array:\n",
      " [[ 0  1  2  3]\n",
      " [ 4  5  6  7]\n",
      " [ 8  9 10 11]\n",
      " [12 13 14 15]]\n",
      "\n",
      "After swapping first and last rows of the array:\n",
      " [[12 13 14 15]\n",
      " [ 4  5  6  7]\n",
      " [ 8  9 10 11]\n",
      " [ 0  1  2  3]]\n"
     ]
    }
   ],
   "source": [
    "# Solution\n",
    "nums = np.arange(16, dtype='int').reshape(-1, 4)\n",
    "print(\"Original array:\\n\", nums)\n",
    "\n",
    "nums[[0,-1], :] = nums[[-1,0], :]\n",
    "print(\"\\nAfter swapping first and last rows of the array:\\n\", nums)"
   ]
  },
  {
   "cell_type": "markdown",
   "id": "6893fe1b",
   "metadata": {},
   "source": [
    "### 51\\. Write a NumPy program to create a new array of given shape (5,6) and type, filled with zeros."
   ]
  },
  {
   "cell_type": "code",
   "execution_count": 61,
   "id": "9a184182",
   "metadata": {},
   "outputs": [
    {
     "data": {
      "text/plain": [
       "array([[0., 0., 0., 0., 0., 0.],\n",
       "       [0., 0., 0., 0., 0., 0.],\n",
       "       [0., 0., 0., 0., 0., 0.],\n",
       "       [0., 0., 0., 0., 0., 0.],\n",
       "       [0., 0., 0., 0., 0., 0.]])"
      ]
     },
     "execution_count": 61,
     "metadata": {},
     "output_type": "execute_result"
    }
   ],
   "source": [
    "np.zeros((5, 6))"
   ]
  },
  {
   "cell_type": "markdown",
   "id": "c65ab684",
   "metadata": {},
   "source": [
    "### 52\\. Write a NumPy program to sort a given array by row and column in ascending order."
   ]
  },
  {
   "cell_type": "code",
   "execution_count": 7,
   "id": "3b2cc6da",
   "metadata": {},
   "outputs": [
    {
     "name": "stdout",
     "output_type": "stream",
     "text": [
      "Array:\n",
      " [[16 10  2 14 14]\n",
      " [ 4 16 17  4  5]\n",
      " [ 7 14 10  5 18]\n",
      " [ 3 18  1 16  9]]\n",
      "\n",
      "Sorted by column:\n",
      " [[ 3 10  1  4  5]\n",
      " [ 4 14  2  5  9]\n",
      " [ 7 16 10 14 14]\n",
      " [16 18 17 16 18]]\n",
      "\n",
      "Sorted by row:\n",
      " [[ 2 10 14 14 16]\n",
      " [ 4  4  5 16 17]\n",
      " [ 5  7 10 14 18]\n",
      " [ 1  3  9 16 18]]\n"
     ]
    }
   ],
   "source": [
    "arr = np.random.randint(1, 21, size=(4, 5))\n",
    "print(\"Array:\\n\", arr)\n",
    "\n",
    "print(\"\\nSorted by column:\\n\", np.sort(arr, axis=0))\n",
    "print(\"\\nSorted by row:\\n\", np.sort(arr, axis=1))"
   ]
  },
  {
   "cell_type": "markdown",
   "id": "1e88f8f0",
   "metadata": {},
   "source": [
    "### 53\\. Write a NumPy program to extract all numbers from a given array which are less and greater than a specified number."
   ]
  },
  {
   "cell_type": "code",
   "execution_count": 8,
   "id": "dc20258c",
   "metadata": {},
   "outputs": [
    {
     "name": "stdout",
     "output_type": "stream",
     "text": [
      "Array:\n",
      " [[16 10  2 14 14]\n",
      " [ 4 16 17  4  5]\n",
      " [ 7 14 10  5 18]\n",
      " [ 3 18  1 16  9]]\n",
      "\n",
      "Elements less than 10 in array: [2 4 4 5 7 5 3 1 9]\n",
      "\n",
      "Elements greater than 12 in array: [16 14 14 16 17 14 18 18 16]\n"
     ]
    }
   ],
   "source": [
    "print(\"Array:\\n\", arr)\n",
    "print(\"\\nElements less than 10 in array:\", arr[arr < 10])\n",
    "print(\"\\nElements greater than 12 in array:\", arr[arr > 12])"
   ]
  },
  {
   "cell_type": "markdown",
   "id": "a4d517d2",
   "metadata": {},
   "source": [
    "### 54\\. Write a NumPy program to replace all numbers in a given array which is equal, less and greater to a given number."
   ]
  },
  {
   "cell_type": "code",
   "execution_count": 30,
   "id": "10466b87",
   "metadata": {},
   "outputs": [
    {
     "name": "stdout",
     "output_type": "stream",
     "text": [
      "Original array\n",
      " [[12 10 14 12  2]\n",
      " [ 4  0  1  3 14]\n",
      " [10 14  6 11 13]\n",
      " [ 4  6 12  9 10]]\n",
      "\n",
      "Replace elements of the array which are equal to 8 with 999:\n",
      "[[12 10 14 12  2]\n",
      " [ 4  0  1  3 14]\n",
      " [10 14  6 11 13]\n",
      " [ 4  6 12  9 10]]\n",
      "\n",
      "Replace elements of the array which are less than 8 with 999:\n",
      "[[ 12  10  14  12 999]\n",
      " [999 999 999 999  14]\n",
      " [ 10  14 999  11  13]\n",
      " [999 999  12   9  10]]\n",
      "\n",
      "Replace elements of the array which are greater than 8 with 999:\n",
      "[[999 999 999 999   2]\n",
      " [  4   0   1   3 999]\n",
      " [999 999   6 999 999]\n",
      " [  4   6 999 999 999]]\n"
     ]
    }
   ],
   "source": [
    "arr = np.random.randint(15, size=(4, 5))\n",
    "print(\"Original array\\n\", arr)\n",
    "\n",
    "print(\"\\nReplace elements of the array which are equal to 8 with 999:\")\n",
    "print(np.where(arr == 8, 999, arr))\n",
    "\n",
    "print(\"\\nReplace elements of the array which are less than 8 with 999:\")\n",
    "print(np.where(arr < 8, 999, arr))\n",
    "\n",
    "print(\"\\nReplace elements of the array which are greater than 8 with 999:\")\n",
    "print(np.where(arr > 8, 999, arr))"
   ]
  },
  {
   "cell_type": "markdown",
   "id": "6454af76",
   "metadata": {},
   "source": [
    "### 55\\. Write a NumPy program to create an array of equal shape and data type of a given array."
   ]
  },
  {
   "cell_type": "code",
   "execution_count": 34,
   "id": "684a71a4",
   "metadata": {},
   "outputs": [
    {
     "name": "stdout",
     "output_type": "stream",
     "text": [
      "Given array:\n",
      " [[12 10 14 12  2]\n",
      " [ 4  0  1  3 14]\n",
      " [10 14  6 11 13]\n",
      " [ 4  6 12  9 10]]\n",
      "\n",
      "New array from existing array:\n",
      " [[ 5  8  7  5  2]\n",
      " [10  2 10 10  6]\n",
      " [ 8  4  8 10  5]\n",
      " [ 6  5  7  8  5]]\n"
     ]
    }
   ],
   "source": [
    "print('Given array:\\n', arr)\n",
    "\n",
    "new_arr = np.random.randint(arr.max(), size=arr.shape, dtype=arr.dtype)\n",
    "print('\\nNew array from existing array:\\n', new_arr)"
   ]
  },
  {
   "cell_type": "code",
   "execution_count": 41,
   "id": "b3be8e3e",
   "metadata": {},
   "outputs": [
    {
     "name": "stdout",
     "output_type": "stream",
     "text": [
      "\n",
      "New array of equal shape and data type of the given array filled by 0:\n"
     ]
    },
    {
     "data": {
      "text/plain": [
       "array([[0, 0, 0, 0, 0],\n",
       "       [0, 0, 0, 0, 0],\n",
       "       [0, 0, 0, 0, 0],\n",
       "       [0, 0, 0, 0, 0]])"
      ]
     },
     "execution_count": 41,
     "metadata": {},
     "output_type": "execute_result"
    }
   ],
   "source": [
    "# Solution\n",
    "print(\"\\nNew array of equal shape and data type of the given array filled by 0:\")\n",
    "np.zeros_like(arr)\n",
    "# np.ones_like(arr)\n",
    "# np.full_like(arr, 5)"
   ]
  },
  {
   "cell_type": "markdown",
   "id": "59bf9fca",
   "metadata": {},
   "source": [
    "### 56\\. Write a NumPy program to create a three-dimension array with shape (3,5,4) and set to a variable."
   ]
  },
  {
   "cell_type": "code",
   "execution_count": 45,
   "id": "ffff955d",
   "metadata": {},
   "outputs": [
    {
     "data": {
      "text/plain": [
       "array([[[77, 48, 41, 43],\n",
       "        [69, 82, 62, 97],\n",
       "        [82, 54, 86, 11],\n",
       "        [74, 69, 25, 70],\n",
       "        [15, 12,  2, 25]],\n",
       "\n",
       "       [[39,  4, 88, 32],\n",
       "        [21,  5, 67, 90],\n",
       "        [86, 83, 47, 84],\n",
       "        [79, 68, 34, 50],\n",
       "        [16, 48,  6, 42]],\n",
       "\n",
       "       [[14, 77, 54, 96],\n",
       "        [26, 59,  5, 10],\n",
       "        [17, 56, 62, 13],\n",
       "        [84, 14, 51,  3],\n",
       "        [65, 41, 36, 45]]])"
      ]
     },
     "execution_count": 45,
     "metadata": {},
     "output_type": "execute_result"
    }
   ],
   "source": [
    "arr3d = np.random.randint(100, size=(3, 5, 4))\n",
    "arr3d"
   ]
  },
  {
   "cell_type": "markdown",
   "id": "5f26b6a1",
   "metadata": {},
   "source": [
    "### 57\\. Write a NumPy program to create a 4x4 array, now create a new array from the said array swapping first and last, second and third columns."
   ]
  },
  {
   "cell_type": "code",
   "execution_count": 94,
   "id": "67599447",
   "metadata": {},
   "outputs": [
    {
     "name": "stdout",
     "output_type": "stream",
     "text": [
      "Array:\n",
      " [[ 1  2  3  4]\n",
      " [ 5  6  7  8]\n",
      " [ 9 10 11 12]\n",
      " [13 14 15 16]]\n",
      "\n",
      "Array after swapping first and last, second and third columns:\n",
      " [[ 4  3  2  1]\n",
      " [ 8  7  6  5]\n",
      " [12 11 10  9]\n",
      " [16 15 14 13]]\n"
     ]
    }
   ],
   "source": [
    "arr = np.arange(1, 17).reshape(4, 4)\n",
    "print(\"Array:\\n\", arr)\n",
    "\n",
    "# swapping first and last columns\n",
    "arr[:, [0]], arr[:, [-1]] = arr[:, [-1]], arr[:, [0]]\n",
    "# swapping second and third columns\n",
    "arr[:, [1]], arr[:, [2]] = arr[:, [2]], arr[:, [1]]\n",
    "print(\"\\nArray after swapping first and last, second and third columns:\\n\", arr)"
   ]
  },
  {
   "cell_type": "code",
   "execution_count": 95,
   "id": "bb7c8913",
   "metadata": {},
   "outputs": [
    {
     "name": "stdout",
     "output_type": "stream",
     "text": [
      "Original array:\n",
      "[[ 0  1  2  3]\n",
      " [ 4  5  6  7]\n",
      " [ 8  9 10 11]\n",
      " [12 13 14 15]]\n",
      "\n",
      "New array after swapping first and last columns of the said array:\n",
      "[[ 3  2  1  0]\n",
      " [ 7  6  5  4]\n",
      " [11 10  9  8]\n",
      " [15 14 13 12]]\n"
     ]
    }
   ],
   "source": [
    "# solution\n",
    "nums = np.arange(16, dtype='int').reshape(-1, 4)\n",
    "print(\"Original array:\")\n",
    "print(nums)\n",
    "print(\"\\nNew array after swapping first and last columns of the said array:\")\n",
    "new_nums = nums[:, ::-1]\n",
    "print(new_nums)"
   ]
  },
  {
   "cell_type": "markdown",
   "id": "4ce27ecf",
   "metadata": {},
   "source": [
    "### 58\\. Write a NumPy program to swap rows and columns of a given array in reverse order."
   ]
  },
  {
   "cell_type": "code",
   "execution_count": 99,
   "id": "1ebd6bb1",
   "metadata": {},
   "outputs": [
    {
     "name": "stdout",
     "output_type": "stream",
     "text": [
      "Original array:\n",
      " [[ 1  2  3  4]\n",
      " [ 5  6  7  8]\n",
      " [ 9 10 11 12]\n",
      " [13 14 15 16]]\n",
      "\n",
      "After swapping rows and columns of the array:\n",
      "[[16 15 14 13]\n",
      " [12 11 10  9]\n",
      " [ 8  7  6  5]\n",
      " [ 4  3  2  1]]\n"
     ]
    }
   ],
   "source": [
    "arr = np.arange(1, 17).reshape(4, 4)\n",
    "print(\"Original array:\\n\", arr)\n",
    "print(\"\\nAfter swapping rows and columns of the array:\")\n",
    "print(arr[::-1, ::-1])"
   ]
  },
  {
   "cell_type": "markdown",
   "id": "7bcbbcce",
   "metadata": {},
   "source": [
    "### 59\\. Write a NumPy program to multiply two given arrays of same size element-by-element."
   ]
  },
  {
   "cell_type": "code",
   "execution_count": 110,
   "id": "431e78d5",
   "metadata": {},
   "outputs": [
    {
     "name": "stdout",
     "output_type": "stream",
     "text": [
      "a1=\n",
      " [[1 3]\n",
      " [5 7]]\n",
      "\n",
      "a2=\n",
      " [[2 4]\n",
      " [6 8]]\n",
      "\n",
      "a1 * a2 =\n",
      " [[ 2 12]\n",
      " [30 56]]\n"
     ]
    }
   ],
   "source": [
    "a1 = np.arange(1, 8, 2).reshape(2, 2)\n",
    "a2 = np.arange(2, 9, 2).reshape(2, 2)\n",
    "print('a1=\\n', a1)\n",
    "print('\\na2=\\n', a2)\n",
    "\n",
    "print('\\na1 * a2 =\\n', a1 * a2)  # np.multiply(a1, a2)"
   ]
  }
 ],
 "metadata": {
  "kernelspec": {
   "display_name": "Python [conda env:aipnd] *",
   "language": "python",
   "name": "conda-env-aipnd-py"
  },
  "language_info": {
   "codemirror_mode": {
    "name": "ipython",
    "version": 3
   },
   "file_extension": ".py",
   "mimetype": "text/x-python",
   "name": "python",
   "nbconvert_exporter": "python",
   "pygments_lexer": "ipython3",
   "version": "3.10.4"
  },
  "vscode": {
   "interpreter": {
    "hash": "2c7666c1320a956fa05893d10993164efa76d3af81fc7470d6f4943526f3df36"
   }
  }
 },
 "nbformat": 4,
 "nbformat_minor": 5
}
