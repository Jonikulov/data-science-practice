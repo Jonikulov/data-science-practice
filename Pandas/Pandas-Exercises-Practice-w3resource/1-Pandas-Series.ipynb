{
 "cells": [
  {
   "cell_type": "markdown",
   "id": "a9342aca",
   "metadata": {},
   "source": [
    "# Pandas Data Series: 40 exercises\n",
    "\n",
    "**LINK -> https://w3resource.com/python-exercises/pandas/index-data-series.php**\n",
    "\n",
    "---"
   ]
  },
  {
   "cell_type": "code",
   "execution_count": 2,
   "id": "94ebcabc",
   "metadata": {},
   "outputs": [],
   "source": [
    "import pandas as pd"
   ]
  },
  {
   "cell_type": "code",
   "execution_count": 4,
   "id": "6ffc7bac",
   "metadata": {},
   "outputs": [
    {
     "data": {
      "text/plain": [
       "'1.4.3'"
      ]
     },
     "execution_count": 4,
     "metadata": {},
     "output_type": "execute_result"
    }
   ],
   "source": [
    "pd.__version__"
   ]
  },
  {
   "cell_type": "markdown",
   "id": "bfb85c50",
   "metadata": {},
   "source": [
    "### 1\\. Write a Python program"
   ]
  },
  {
   "cell_type": "code",
   "execution_count": null,
   "id": "0fbd250d",
   "metadata": {},
   "outputs": [],
   "source": []
  }
 ],
 "metadata": {
  "kernelspec": {
   "display_name": "Python 3.10.5 64-bit",
   "language": "python",
   "name": "python3"
  },
  "language_info": {
   "codemirror_mode": {
    "name": "ipython",
    "version": 3
   },
   "file_extension": ".py",
   "mimetype": "text/x-python",
   "name": "python",
   "nbconvert_exporter": "python",
   "pygments_lexer": "ipython3",
   "version": "3.10.5"
  },
  "vscode": {
   "interpreter": {
    "hash": "2c7666c1320a956fa05893d10993164efa76d3af81fc7470d6f4943526f3df36"
   }
  }
 },
 "nbformat": 4,
 "nbformat_minor": 5
}
