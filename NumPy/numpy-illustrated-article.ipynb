{
 "cells": [
  {
   "cell_type": "markdown",
   "id": "83937963",
   "metadata": {},
   "source": [
    "# NumPy Illustrated: The Visual Guide to NumPy\n",
    "\n",
    "Brush up your NumPy or learn it from scratch.\n",
    "\n",
    "**Article link ->** https://betterprogramming.pub/numpy-illustrated-the-visual-guide-to-numpy-3b1d4976de1d\n",
    "\n",
    "![numpy-arithmetics](https://miro.medium.com/max/963/1*XbZqTBXZmnQtVZ_llbGJTw.png)"
   ]
  },
  {
   "cell_type": "markdown",
   "id": "f54c5b69",
   "metadata": {},
   "source": [
    "## Numpy Array vs. Python List"
   ]
  },
  {
   "cell_type": "markdown",
   "id": "809d9b86",
   "metadata": {},
   "source": [
    "1. http://jalammar.github.io/visual-numpy/"
   ]
  },
  {
   "cell_type": "code",
   "execution_count": 4,
   "id": "b30f5b7b",
   "metadata": {},
   "outputs": [],
   "source": [
    "# At first glance, NumPy arrays are similar to Python lists."
   ]
  },
  {
   "cell_type": "code",
   "execution_count": null,
   "id": "348ddee3",
   "metadata": {},
   "outputs": [],
   "source": []
  },
  {
   "cell_type": "markdown",
   "id": "b44eae4d",
   "metadata": {},
   "source": [
    "## 1. Vectors, the 1D Arrays"
   ]
  },
  {
   "cell_type": "code",
   "execution_count": null,
   "id": "d66dc678",
   "metadata": {},
   "outputs": [],
   "source": []
  },
  {
   "cell_type": "code",
   "execution_count": null,
   "id": "304af92b",
   "metadata": {},
   "outputs": [],
   "source": []
  },
  {
   "cell_type": "markdown",
   "id": "32485c5f",
   "metadata": {},
   "source": [
    "## 2. Matrices, the 2D Arrays"
   ]
  },
  {
   "cell_type": "code",
   "execution_count": null,
   "id": "dc3a38ef",
   "metadata": {},
   "outputs": [],
   "source": []
  },
  {
   "cell_type": "code",
   "execution_count": null,
   "id": "89382cfb",
   "metadata": {},
   "outputs": [],
   "source": []
  },
  {
   "cell_type": "markdown",
   "id": "820dedbd",
   "metadata": {},
   "source": [
    "## 3. 3D and above"
   ]
  },
  {
   "cell_type": "code",
   "execution_count": null,
   "id": "1c982698",
   "metadata": {},
   "outputs": [],
   "source": []
  }
 ],
 "metadata": {
  "kernelspec": {
   "display_name": "Python [conda env:root] *",
   "language": "python",
   "name": "conda-root-py"
  },
  "language_info": {
   "codemirror_mode": {
    "name": "ipython",
    "version": 3
   },
   "file_extension": ".py",
   "mimetype": "text/x-python",
   "name": "python",
   "nbconvert_exporter": "python",
   "pygments_lexer": "ipython3",
   "version": "3.9.13"
  }
 },
 "nbformat": 4,
 "nbformat_minor": 5
}
